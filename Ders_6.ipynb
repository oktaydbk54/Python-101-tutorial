{
 "cells": [
  {
   "cell_type": "markdown",
   "id": "5891aa0d",
   "metadata": {},
   "source": [
    "# Lambda fonksiyonu"
   ]
  },
  {
   "cell_type": "markdown",
   "id": "9f5e44d4",
   "metadata": {},
   "source": [
    "lambda fonksiyonu bizim küçük çaplı işlerimizi hızlıca halletmek için kullandığımız bir ananoim fonksiyondur.\n",
    "yani şu şekilde ufak bir işlem yapmak istiyoruz ama bunun için uzun uzun fonksiyon yazmak istemiyor olabilir hemen bir örnekle inceleyelim.\n",
    "\n",
    "Syntax of Lambda Function:\n",
    "\n",
    "lambda arguments: expression"
   ]
  },
  {
   "cell_type": "code",
   "execution_count": 1,
   "id": "8a765d73",
   "metadata": {},
   "outputs": [
    {
     "name": "stdout",
     "output_type": "stream",
     "text": [
      "10\n"
     ]
    }
   ],
   "source": [
    "double = lambda x: x*2\n",
    "print(double(5))"
   ]
  },
  {
   "cell_type": "markdown",
   "id": "b5dcbc41",
   "metadata": {},
   "source": [
    "burada sanki def double(x): adında bir fonksiyon tanımladık sanki gibi düşünebiliriz. return x*2 yapmış gibi olduk aslında."
   ]
  },
  {
   "cell_type": "code",
   "execution_count": 2,
   "id": "19597fb2",
   "metadata": {},
   "outputs": [
    {
     "data": {
      "text/plain": [
       "10"
      ]
     },
     "execution_count": 2,
     "metadata": {},
     "output_type": "execute_result"
    }
   ],
   "source": [
    "def double(x):\n",
    "    return x*2\n",
    "double(5)"
   ]
  },
  {
   "cell_type": "markdown",
   "id": "71b47f02",
   "metadata": {},
   "source": [
    "baktığımız zaman hiç bir fark yok ortada o yüzden böyle işlemleri kısaltmak için lambda fonksiyonunu kullanıyoruz :)"
   ]
  },
  {
   "cell_type": "code",
   "execution_count": 3,
   "id": "875579cb",
   "metadata": {},
   "outputs": [
    {
     "name": "stdout",
     "output_type": "stream",
     "text": [
      "15\n"
     ]
    }
   ],
   "source": [
    "topla = lambda a: a+ 10\n",
    "print(topla(5))"
   ]
  },
  {
   "cell_type": "code",
   "execution_count": 4,
   "id": "7d049a22",
   "metadata": {},
   "outputs": [
    {
     "data": {
      "text/plain": [
       "15"
      ]
     },
     "execution_count": 4,
     "metadata": {},
     "output_type": "execute_result"
    }
   ],
   "source": [
    "def topla(a):\n",
    "    return a+10\n",
    "topla(5)"
   ]
  },
  {
   "cell_type": "code",
   "execution_count": 5,
   "id": "a3d4e2be",
   "metadata": {},
   "outputs": [
    {
     "name": "stdout",
     "output_type": "stream",
     "text": [
      "12\n"
     ]
    }
   ],
   "source": [
    "carpma = lambda a,b : a*b\n",
    "print(carpma(3,4))"
   ]
  },
  {
   "cell_type": "code",
   "execution_count": 6,
   "id": "83fe0ace",
   "metadata": {},
   "outputs": [
    {
     "data": {
      "text/plain": [
       "12"
      ]
     },
     "execution_count": 6,
     "metadata": {},
     "output_type": "execute_result"
    }
   ],
   "source": [
    "def carpma(a,b):\n",
    "    return a*b\n",
    "carpma(3,4)"
   ]
  },
  {
   "cell_type": "markdown",
   "id": "05cd1d00",
   "metadata": {},
   "source": [
    "lambda fonksiyonlarını çoğunlukla kullandığımız bazı fonksiyonlar vardır bunlardan bazıları map() filter() enumerate() gibi fonksiyonlardır. Ödev olarak filter() ve enumerate() gibi fonksiyonları araştırıp örnek yapın!"
   ]
  },
  {
   "cell_type": "code",
   "execution_count": 7,
   "id": "ef72bcbd",
   "metadata": {},
   "outputs": [
    {
     "name": "stdout",
     "output_type": "stream",
     "text": [
      "[2, 4, 6, 8, 10, 14]\n"
     ]
    }
   ],
   "source": [
    "# map() fonksiyonu kullanımı\n",
    "my_list = [1,2,3,4,5,7]\n",
    "\n",
    "new_list = list(map(lambda x: x*2,my_list))\n",
    "print(new_list)"
   ]
  },
  {
   "cell_type": "markdown",
   "id": "39b4dfbb",
   "metadata": {},
   "source": [
    "# Python Recursion"
   ]
  },
  {
   "attachments": {
    "python-recursion-function.png": {
     "image/png": "[encoded data removed]"
    }
   },
   "cell_type": "markdown",
   "id": "87738f14",
   "metadata": {},
   "source": [
    "![python-recursion-function.png](attachment:python-recursion-function.png)"
   ]
  },
  {
   "cell_type": "markdown",
   "id": "025de938",
   "metadata": {},
   "source": [
    "Recursion yani öz yineleme dediğimiz olay şu aslında kendi kendini bir döngüye sokan ve sonunda döngü bittiği zaman işlemin tamamlanmasına denir."
   ]
  },
  {
   "cell_type": "code",
   "execution_count": 8,
   "id": "f199949f",
   "metadata": {},
   "outputs": [
    {
     "name": "stdout",
     "output_type": "stream",
     "text": [
      "The factorial of 3 is 6\n"
     ]
    }
   ],
   "source": [
    "# Örnek\n",
    "def factorial(x):\n",
    "    if x == 1:\n",
    "        return 1\n",
    "    else:\n",
    "        return (x * factorial(x-1))\n",
    "\n",
    "\n",
    "num = 3\n",
    "print(\"The factorial of\", num, \"is\", factorial(num))"
   ]
  },
  {
   "cell_type": "raw",
   "id": "0c8c8f32",
   "metadata": {},
   "source": [
    "factorial(3)          # 1st call with 3\n",
    "3 * factorial(2)      # 2nd call with 2\n",
    "3 * 2 * factorial(1)  # 3rd call with 1\n",
    "3 * 2 * 1             # return from 3rd call as number=1\n",
    "3 * 2                 # return from 2nd call\n",
    "6                     # return from 1st call"
   ]
  },
  {
   "cell_type": "markdown",
   "id": "73b0d9d1",
   "metadata": {},
   "source": [
    "# Avantajları"
   ]
  },
  {
   "cell_type": "raw",
   "id": "01d23161",
   "metadata": {},
   "source": [
    "1- Recursive fonksiyonları kullanmak yazdığımız kodlar temiz ve okunulabilirlik özelliği verir.\n",
    "2- Çok komplike sorunları çözmek için kullanmak yerine ufak problemleri çözmek için kullanmamız daha doğru olur.\n",
    "3- kendi içerisinde bir döngü oluşturduğu için bizlere sadece dizayn etmek kalır ve sonradan hızlı bir şekilde işini yapar."
   ]
  },
  {
   "cell_type": "markdown",
   "id": "fb0f39cf",
   "metadata": {},
   "source": [
    "# Dezavantajları"
   ]
  },
  {
   "cell_type": "raw",
   "id": "4bbfeafd",
   "metadata": {},
   "source": [
    "1- Bazen recursive mantığını kurmak bizler için çok zor olabiliyor.\n",
    "2- Eğer büyük yapılar için kullanmak hedefleniyorsa hiç mantıklı bir tercih olmayacaktır çünkü yavaş ve çok memory kullanır.\n",
    "3- Recursive fonksiyonların buglarını çözmek zordur."
   ]
  },
  {
   "cell_type": "markdown",
   "id": "d30942ac",
   "metadata": {},
   "source": [
    "# Python File "
   ]
  },
  {
   "cell_type": "markdown",
   "id": "60390a6f",
   "metadata": {},
   "source": [
    "şimdi artık en eglenceli kısımlara gelmiş bulunmaktayız bundan sonra ki işleyeceğimiz konularda örnek veri setleri inceleyeceğiz\n",
    "öğrendiklerimizin hepsini artık burada kullanmaya başlayacağız."
   ]
  },
  {
   "cell_type": "markdown",
   "id": "142a729f",
   "metadata": {},
   "source": [
    "şimdi biz veri setleri veya txt gibi dosyalar üzerinde ki veriler ile işlemler yapmak zorunda kalacağız bu yüzden bu dosyaları \n",
    "pythonda okumamız gerekiyor."
   ]
  },
  {
   "cell_type": "raw",
   "id": "ff5ef856",
   "metadata": {},
   "source": [
    "dosyaları açmak için pythonun kendi open() özelliğini kullanıyoruz bunu kullanırken 4 farklı modu vardır.\n",
    "\n",
    "1- \"r\" - Read - Default value. Opens a file for reading, error if the file does not exist\n",
    "2- \"a\" - Append - Opens a file for appending, creates the file if it does not exist\n",
    "3- \"w\" - Write - Opens a file for writing, creates the file if it does not exist\n",
    "4- \"x\" - Create - Creates the specified file, returns an error if the file exists"
   ]
  },
  {
   "cell_type": "markdown",
   "id": "900629fd",
   "metadata": {},
   "source": [
    "## Read "
   ]
  },
  {
   "cell_type": "code",
   "execution_count": 9,
   "id": "add2ea9e",
   "metadata": {},
   "outputs": [
    {
     "name": "stdout",
     "output_type": "stream",
     "text": [
      "Hello! Welcome to demofile.txt\n",
      "This file is for testing purposes.\n",
      "Good Luck!\n"
     ]
    }
   ],
   "source": [
    "f = open(\"ilk_txt.txt\", \"r\") # burada ilk önce dosyamızın adını belirtiyoruz 2.inci parametre olarak okumak için r harfini koyuyoruz\n",
    "print(f.read()) # daha sonrasında okutmak için read() fonksiyonunu çalıştırıyoruz"
   ]
  },
  {
   "cell_type": "markdown",
   "id": "c4409044",
   "metadata": {},
   "source": [
    "eğer sadece belirli bir yere kadar okutmak istersek read() fonksiyonunun içine kaçıncı indexe kadar gelmesini  istiyorsak onu yazarız."
   ]
  },
  {
   "cell_type": "code",
   "execution_count": 10,
   "id": "9c4437d2",
   "metadata": {},
   "outputs": [
    {
     "name": "stdout",
     "output_type": "stream",
     "text": [
      "Hello! Wel\n"
     ]
    }
   ],
   "source": [
    "f = open(\"ilk_txt.txt\", \"r\")\n",
    "print(f.read(10))"
   ]
  },
  {
   "cell_type": "markdown",
   "id": "b149caaa",
   "metadata": {},
   "source": [
    "eğer sadece satır satır yazdırmak istersek o zaman readline() özelliğini kullanmamız gerekir."
   ]
  },
  {
   "cell_type": "code",
   "execution_count": 11,
   "id": "c9174d25",
   "metadata": {},
   "outputs": [
    {
     "name": "stdout",
     "output_type": "stream",
     "text": [
      "Hello! Welcome to demofile.txt\n",
      "\n",
      "This file is for testing purposes.\n",
      "\n"
     ]
    }
   ],
   "source": [
    "f = open(\"ilk_txt.txt\", \"r\")\n",
    "print(f.readline())\n",
    "print(f.readline())"
   ]
  },
  {
   "cell_type": "code",
   "execution_count": 12,
   "id": "57d0f978",
   "metadata": {},
   "outputs": [
    {
     "name": "stdout",
     "output_type": "stream",
     "text": [
      "Hello! Welcome to demofile.txt\n",
      "\n",
      "This file is for testing purposes.\n",
      "\n",
      "Good Luck!\n"
     ]
    }
   ],
   "source": [
    "f = open(\"ilk_txt.txt\", \"r\")\n",
    "for x in f:\n",
    "    print(x) # bu da ikinci bir seçenek"
   ]
  },
  {
   "cell_type": "markdown",
   "id": "bf22a5c3",
   "metadata": {},
   "source": [
    "!!! Eğer bir dosyayı okuma işlemi yaptıysak sonrasında işlemlerimiz bittiği zaman kapatmamız gerekir. bunun için close()\n",
    "fonksiyonunu kullanırız."
   ]
  },
  {
   "cell_type": "code",
   "execution_count": 13,
   "id": "c8eb0254",
   "metadata": {},
   "outputs": [
    {
     "name": "stdout",
     "output_type": "stream",
     "text": [
      "Hello! Welcome to demofile.txt\n",
      "\n"
     ]
    }
   ],
   "source": [
    "f = open(\"ilk_txt.txt\", \"r\")\n",
    "print(f.readline())\n",
    "f.close()\n",
    "#print(f.readline())"
   ]
  },
  {
   "cell_type": "code",
   "execution_count": null,
   "id": "47a65a38",
   "metadata": {},
   "outputs": [],
   "source": []
  }
 ],
 "metadata": {
  "kernelspec": {
   "display_name": "Python 3 (ipykernel)",
   "language": "python",
   "name": "python3"
  },
  "language_info": {
   "codemirror_mode": {
    "name": "ipython",
    "version": 3
   },
   "file_extension": ".py",
   "mimetype": "text/x-python",
   "name": "python",
   "nbconvert_exporter": "python",
   "pygments_lexer": "ipython3",
   "version": "3.9.12"
  }
 },
 "nbformat": 4,
 "nbformat_minor": 5
}
