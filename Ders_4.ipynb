{
 "cells": [
  {
   "cell_type": "markdown",
   "id": "4c98036e",
   "metadata": {},
   "source": [
    "## if - elif - else"
   ]
  },
  {
   "cell_type": "markdown",
   "id": "f2b2b476",
   "metadata": {},
   "source": [
    "if elif else bizim koşul durumlarımız için kullandığımız yöntemlerden bir tanesidir.\n",
    "Kısa bir şekilde örnek vermek istersem alttaki örneklere bakalım"
   ]
  },
  {
   "cell_type": "code",
   "execution_count": 1,
   "id": "597c42db",
   "metadata": {},
   "outputs": [
    {
     "name": "stdout",
     "output_type": "stream",
     "text": [
      "Yetmedi\n"
     ]
    }
   ],
   "source": [
    "param = 50\n",
    "cikolata = 51\n",
    "if param > cikolata:\n",
    "    print(\"satın alabilirim\")\n",
    "else:\n",
    "    print(\"Yetmedi\")"
   ]
  },
  {
   "cell_type": "code",
   "execution_count": 2,
   "id": "56535d58",
   "metadata": {},
   "outputs": [
    {
     "name": "stdout",
     "output_type": "stream",
     "text": [
      "6\n"
     ]
    }
   ],
   "source": [
    "import random\n",
    "zar_numarası = random.randint(1, 6)\n",
    "\n",
    "if zar_numarası == 1:\n",
    "    print(\"1 geldi\")\n",
    "elif zar_numarası == 2:\n",
    "    print('2')\n",
    "elif zar_numarası == 3:\n",
    "    print('3')\n",
    "elif zar_numarası == 4:\n",
    "    print('4')\n",
    "elif zar_numarası == 5:\n",
    "    print('5')\n",
    "else:\n",
    "    print('6')"
   ]
  },
  {
   "cell_type": "code",
   "execution_count": 3,
   "id": "61d80f25",
   "metadata": {},
   "outputs": [
    {
     "name": "stdout",
     "output_type": "stream",
     "text": [
      "Ahmetin Parası daha azdır.\n"
     ]
    }
   ],
   "source": [
    "ahmetin_parası = 10\n",
    "mehmetin_parası = 20\n",
    "aysenin_parası = 30\n",
    "\n",
    "if ahmetin_parası < mehmetin_parası:\n",
    "    print(\"Ahmetin Parası daha azdır.\")"
   ]
  },
  {
   "cell_type": "markdown",
   "id": "3d60ca3e",
   "metadata": {},
   "source": [
    "şimdi burada baktığımız zaman ahmetin parası mehmetin parasından az olduğunu görebiliyoruz ve bu True bir durum olduğu için \n",
    "girinti kısmına gelip oradaki işlemi print işlemini gerçekleştiriyoruz"
   ]
  },
  {
   "cell_type": "code",
   "execution_count": 4,
   "id": "cf268f86",
   "metadata": {
    "scrolled": true
   },
   "outputs": [
    {
     "name": "stdout",
     "output_type": "stream",
     "text": [
      "Ayşenin parası daha fazladır.\n"
     ]
    }
   ],
   "source": [
    "if ahmetin_parası > aysenin_parası:\n",
    "    print(\"Ahmetin parası daha fazladır\")\n",
    "elif aysenin_parası > ahmetin_parası:\n",
    "    print(\"Ayşenin parası daha fazladır.\")"
   ]
  },
  {
   "cell_type": "markdown",
   "id": "b91412a3",
   "metadata": {},
   "source": [
    "burada baktığımız zaman ahmetin parası aysenin parasından daha az olduğu için koşul false olmuş olacak ve if kısmı geçilecek\n",
    "elif kısmına geldiğimiz zaman aysenin parası ahmetin parasından daha fazla olduğu için durum True olmuş oldu ve işlem yapıldı"
   ]
  },
  {
   "cell_type": "code",
   "execution_count": 5,
   "id": "93fea421",
   "metadata": {},
   "outputs": [
    {
     "name": "stdout",
     "output_type": "stream",
     "text": [
      "Ayşenin parası daha fazladır.\n"
     ]
    }
   ],
   "source": [
    "if ahmetin_parası > mehmetin_parası:\n",
    "    print(\"Ahmetin parası daha fazladır.\")\n",
    "elif mehmetin_parası > aysenin_parası:\n",
    "    print(\"Mehmetin parası daha fazladır.\")\n",
    "else:\n",
    "    print(\"Ayşenin parası daha fazladır.\")"
   ]
  },
  {
   "cell_type": "markdown",
   "id": "c3bbfab4",
   "metadata": {},
   "source": [
    "### And"
   ]
  },
  {
   "cell_type": "code",
   "execution_count": 6,
   "id": "4d750ca1",
   "metadata": {},
   "outputs": [
    {
     "name": "stdout",
     "output_type": "stream",
     "text": [
      "Aysenin parası en çoktur.\n"
     ]
    }
   ],
   "source": [
    "if ahmetin_parası > mehmetin_parası and ahmetin_parası > aysenin_parası:\n",
    "    print(\"Ahmetin parası en çoktur.\")\n",
    "elif mehmetin_parası > ahmetin_parası and mehmetin_parası > aysenin_parası:\n",
    "    print(\"Mehmetin parası en çoktur.\")\n",
    "elif aysenin_parası > ahmetin_parası and aysenin_parası > mehmetin_parası:\n",
    "    print(\"Aysenin parası en çoktur.\")\n",
    "else:\n",
    "    print(\"Kimin en çok parası var bulunamadı.\")"
   ]
  },
  {
   "cell_type": "markdown",
   "id": "dec1807d",
   "metadata": {},
   "source": [
    "### Or"
   ]
  },
  {
   "cell_type": "code",
   "execution_count": 7,
   "id": "5c7e1f2b",
   "metadata": {},
   "outputs": [
    {
     "name": "stdout",
     "output_type": "stream",
     "text": [
      "At least one of the conditions is True\n"
     ]
    }
   ],
   "source": [
    "a = 200\n",
    "b = 33\n",
    "c = 500\n",
    "if a > b or a > c:\n",
    "    print(\"At least one of the conditions is True\")"
   ]
  },
  {
   "cell_type": "markdown",
   "id": "7c40067e",
   "metadata": {},
   "source": [
    "### iç içe if elif else"
   ]
  },
  {
   "cell_type": "code",
   "execution_count": 8,
   "id": "38a74aac",
   "metadata": {},
   "outputs": [
    {
     "name": "stdout",
     "output_type": "stream",
     "text": [
      "Above ten,\n",
      "and also above 20!\n"
     ]
    }
   ],
   "source": [
    "x = 41\n",
    "\n",
    "if x > 10:\n",
    "    print(\"Above ten,\")\n",
    "    if x > 20:\n",
    "        print(\"and also above 20!\")\n",
    "    else:\n",
    "        print(\"but not above 20.\")"
   ]
  },
  {
   "cell_type": "code",
   "execution_count": 9,
   "id": "d65c5268",
   "metadata": {},
   "outputs": [
    {
     "name": "stdout",
     "output_type": "stream",
     "text": [
      "büyüktür 10\n",
      "büyüktür 20\n"
     ]
    }
   ],
   "source": [
    "if x>10:\n",
    "    print(\"büyüktür 10\")\n",
    "if x> 20:\n",
    "    print(\"büyüktür 20\")\n",
    "else:\n",
    "    print(\"küçüktür 20\")"
   ]
  },
  {
   "cell_type": "markdown",
   "id": "01723be6",
   "metadata": {},
   "source": [
    "### Pass func"
   ]
  },
  {
   "cell_type": "code",
   "execution_count": 10,
   "id": "c5ba231e",
   "metadata": {},
   "outputs": [],
   "source": [
    "a = 33\n",
    "b = 200\n",
    "\n",
    "if b > a:\n",
    "    pass"
   ]
  },
  {
   "cell_type": "markdown",
   "id": "33e4f5ff",
   "metadata": {},
   "source": [
    "şimdi ufak bir tekrar etmek gerekirse if değerinin çalışması için değerimizin True olması gerekiyor bu yüzden şimdi başka örnekler yaparak olayı biraz daha iyi kavrayabiliriz"
   ]
  },
  {
   "cell_type": "code",
   "execution_count": 11,
   "id": "01358487",
   "metadata": {},
   "outputs": [
    {
     "name": "stdout",
     "output_type": "stream",
     "text": [
      "Ali birinci grupta\n",
      "Ayşe ikinci grup\n",
      "Ayşe iki grupta yer alıyor\n"
     ]
    }
   ],
   "source": [
    "birinci_grup = [\"Ali\",\"Mehmet\",\"Ayşe\"]\n",
    "ikinci_grup = ['Hasan','Aslı','Ayşe']\n",
    "\n",
    "if 'Ali' in birinci_grup:\n",
    "    print(\"Ali birinci grupta\")\n",
    "    \n",
    "    if 'Ayşe' in ikinci_grup:\n",
    "        print(\"Ayşe ikinci grup\")\n",
    "        \n",
    "        if 'Ayşe' in birinci_grup:\n",
    "            print(\"Ayşe iki grupta yer alıyor\")\n",
    "            \n",
    "        else:\n",
    "            print(\"Ayşe birinci grupta değil \")\n",
    "            \n",
    "    else:\n",
    "        print(\"Ayşe hiç bir grupta yer almıyor.\")\n",
    "        \n",
    "else:\n",
    "    print(\"Ali birinci grupta değil!\")"
   ]
  },
  {
   "cell_type": "code",
   "execution_count": 12,
   "id": "7a5757d4",
   "metadata": {},
   "outputs": [
    {
     "name": "stdout",
     "output_type": "stream",
     "text": [
      "[90, 75, 70, 66, 30, 20, 13]\n",
      "----------------------------------------------------------------------------------------------------\n",
      "score 10'dan fazla\n"
     ]
    }
   ],
   "source": [
    "score = [20,30,70,90,75,13,66]\n",
    "\n",
    "score.sort(reverse = True)\n",
    "\n",
    "sıralanmıs_score_listesi = score\n",
    "\n",
    "print(sıralanmıs_score_listesi)\n",
    "print(\"-\"*100)\n",
    "\n",
    "en_dusuk_score = sıralanmıs_score_listesi[-1]\n",
    "\n",
    "if en_dusuk_score > 20:\n",
    "    print(\"score 20'den fazla\")\n",
    "elif en_dusuk_score > 10:\n",
    "    print(\"score 10'dan fazla\")\n",
    "else:\n",
    "    print(\"score 10'dan az\")"
   ]
  },
  {
   "cell_type": "markdown",
   "id": "5c88e870",
   "metadata": {},
   "source": [
    "### Banka projesine hoşgeldiniz"
   ]
  },
  {
   "cell_type": "code",
   "execution_count": 13,
   "id": "5feddc27",
   "metadata": {},
   "outputs": [
    {
     "name": "stdout",
     "output_type": "stream",
     "text": [
      "Customer 3 kullanıcısının bütçesi daha fazladır.\n"
     ]
    }
   ],
   "source": [
    "customer_dict = {'customer_1':{'budget':1000,\n",
    "                            'currency':'₺',\n",
    "                            'credit_limit':500},\n",
    "                'customer_2':{'budget':3000,\n",
    "                            'currency':'₺',\n",
    "                            'credit_limit':1000},\n",
    "                'customer_3':{'budget':10000,\n",
    "                            'currency':'₺',\n",
    "                            'credit_limit':700}}\n",
    "\n",
    "if customer_dict['customer_1']['budget'] > customer_dict['customer_2']['budget'] and customer_dict['customer_1']['budget'] > customer_dict['customer_3']['budget']:\n",
    "    print(\"Customer 1 kullanıcısının bütçesi daha fazladır.\")\n",
    "    \n",
    "elif customer_dict['customer_2']['budget'] > customer_dict['customer_1']['budget'] and customer_dict['customer_2']['budget'] > customer_dict['customer_3']['budget']:\n",
    "    print(\"Customer 2 kullanıcısının bütçesi daha fazladır.\")\n",
    "    \n",
    "else:\n",
    "    print(\"Customer 3 kullanıcısının bütçesi daha fazladır.\")"
   ]
  },
  {
   "cell_type": "markdown",
   "id": "2024c59c",
   "metadata": {},
   "source": [
    "### While Loops"
   ]
  },
  {
   "cell_type": "markdown",
   "id": "4030612b",
   "metadata": {},
   "source": [
    "elimizde 2 tane döngü sistemi vardır birincisi While loop ikincisi For loop ikisi de neredeyse aynı işlemi yapar aralarında ki tek fark ise while koşul durumunda çalışır yani verilen koşul True olduğu sürece döner.\n",
    "For loop ise belirtmiş olduğumuz noktaya kadar döngüye devam eder."
   ]
  },
  {
   "cell_type": "code",
   "execution_count": 14,
   "id": "51d7d5f6",
   "metadata": {},
   "outputs": [
    {
     "name": "stdout",
     "output_type": "stream",
     "text": [
      "1\n",
      "2\n",
      "3\n",
      "4\n",
      "5\n"
     ]
    }
   ],
   "source": [
    "i = 1\n",
    "while i < 6:\n",
    "    print(i)\n",
    "    i += 1"
   ]
  },
  {
   "cell_type": "markdown",
   "id": "0a2d7515",
   "metadata": {},
   "source": [
    "burada baktığımız zaman koşul durumumuz 6'ya eşit ve 6'dan büyük olana kadar devam etti ve sonrasında işlemi durdurdu\n",
    "while kullanırken dikkat etmemiz gereken en önemli şeylerden bir tanesi koşulu bozacak olan işlemi koymayı unutmak. "
   ]
  },
  {
   "cell_type": "code",
   "execution_count": 15,
   "id": "3d4707d4",
   "metadata": {},
   "outputs": [
    {
     "name": "stdout",
     "output_type": "stream",
     "text": [
      "1\n",
      "2\n",
      "3\n",
      "4\n",
      "5\n"
     ]
    }
   ],
   "source": [
    "i = 1\n",
    "while i < 6:\n",
    "    print(i)\n",
    "    i += 1 # eğer ben burada bu i değişkeninin değerini sürekli arttırmasını sağlamazsam sonsuza kadar 1 değerini yazdırır"
   ]
  },
  {
   "cell_type": "code",
   "execution_count": 16,
   "id": "28eaedf8",
   "metadata": {},
   "outputs": [
    {
     "name": "stdout",
     "output_type": "stream",
     "text": [
      "1 tur\n",
      "****************************************************************************************************\n",
      "[1, 2, 3, 4]\n",
      "****************************************************************************************************\n",
      "2 tur\n",
      "****************************************************************************************************\n",
      "[1, 2, 3]\n",
      "****************************************************************************************************\n",
      "3 tur\n",
      "****************************************************************************************************\n",
      "[1, 2]\n",
      "****************************************************************************************************\n",
      "4 tur\n",
      "****************************************************************************************************\n",
      "[1]\n",
      "****************************************************************************************************\n",
      "5 tur\n",
      "****************************************************************************************************\n",
      "[]\n",
      "****************************************************************************************************\n"
     ]
    }
   ],
   "source": [
    "liste = [1,2,3,4,5]\n",
    "count = 1\n",
    "while 1 in liste:\n",
    "    print(\"{} tur\".format(count))\n",
    "    count += 1\n",
    "    liste.pop()\n",
    "    print(\"*\"*100)\n",
    "    print(liste)\n",
    "    print(\"*\"*100)"
   ]
  },
  {
   "cell_type": "code",
   "execution_count": null,
   "id": "632335ce",
   "metadata": {},
   "outputs": [],
   "source": []
  },
  {
   "cell_type": "code",
   "execution_count": 17,
   "id": "d7986f49",
   "metadata": {},
   "outputs": [
    {
     "name": "stdout",
     "output_type": "stream",
     "text": [
      "Almanya\n",
      "Avusturalya\n",
      "Arjentin\n",
      "Sayac durduran ülke:  Brezilya\n"
     ]
    }
   ],
   "source": [
    "country = [\"Almanya\",'Avusturalya','Arjentin','Brezilya','Bursa','Burdur','Ceyhan','Ceyhun']\n",
    "count = 0\n",
    "while True:\n",
    "    if country[count][0] != 'A':\n",
    "        print(\"Sayac durduran ülke: \",country[count])\n",
    "        break\n",
    "    print(country[count])\n",
    "    \n",
    "    count += 1"
   ]
  },
  {
   "cell_type": "markdown",
   "id": "789d348e",
   "metadata": {},
   "source": [
    "### break "
   ]
  },
  {
   "cell_type": "markdown",
   "id": "1de60a8b",
   "metadata": {},
   "source": [
    "bazen döngüler içerisinde belirli koşullar olduğu zaman döngüden çıkmak isteriz ve bu çıkma işlemi için break komutunu kullanırız.\n",
    "hemen bir örnek ile işleyelim."
   ]
  },
  {
   "cell_type": "code",
   "execution_count": 18,
   "id": "4a5f73ea",
   "metadata": {},
   "outputs": [
    {
     "name": "stdout",
     "output_type": "stream",
     "text": [
      "0 döngü\n",
      "----------------------------------------------------------------------------------------------------\n",
      "1 döngü\n",
      "----------------------------------------------------------------------------------------------------\n",
      "2 döngü\n",
      "----------------------------------------------------------------------------------------------------\n",
      "Ayşe listede 2 sırada\n"
     ]
    }
   ],
   "source": [
    "students_list = [\"Ali\",\"Mehmet\",\"Ayşe\",\"Aslı\"]\n",
    "count = 0\n",
    "while count< len(students_list) :\n",
    "    print(\"{} döngü\".format(count))\n",
    "    print('-'*100)\n",
    "    if students_list[count] == \"Ayşe\":\n",
    "        print(\"Ayşe listede {} sırada\".format(count))\n",
    "        break\n",
    "    else:\n",
    "        count += 1\n",
    "        \n"
   ]
  },
  {
   "cell_type": "markdown",
   "id": "e8d46d93",
   "metadata": {},
   "source": [
    "### continue"
   ]
  },
  {
   "cell_type": "markdown",
   "id": "83157845",
   "metadata": {},
   "source": [
    "continue ise bizim bazı koşulları atlamamızı sağlar yani oyunlarda bir sahne çıkar ve biz onu hızlıca geçmek isteriz ve skip tuşuna basarız aynı mantık olduğunu söyleyebilirim."
   ]
  },
  {
   "cell_type": "code",
   "execution_count": 19,
   "id": "720c29a6",
   "metadata": {},
   "outputs": [
    {
     "name": "stdout",
     "output_type": "stream",
     "text": [
      "2\n",
      "3\n",
      "4\n",
      "5 değerini geçiyoruz\n",
      "6\n",
      "7\n",
      "8\n",
      "9\n",
      "10\n"
     ]
    }
   ],
   "source": [
    "i = 1\n",
    "while i < 10:\n",
    "    i += 1\n",
    "    if i == 5:\n",
    "        print(\"5 değerini geçiyoruz\")\n",
    "        \n",
    "        continue\n",
    "    else:\n",
    "        print(i)\n",
    "        "
   ]
  },
  {
   "cell_type": "code",
   "execution_count": 20,
   "id": "26e1def5",
   "metadata": {},
   "outputs": [
    {
     "name": "stdout",
     "output_type": "stream",
     "text": [
      "6\n",
      "7\n",
      "8\n",
      "9\n",
      "11\n",
      "12\n",
      "13\n",
      "14\n",
      "15\n",
      "16\n",
      "17\n",
      "18\n",
      "19\n",
      "20\n"
     ]
    }
   ],
   "source": [
    "i = 5\n",
    "while i < 20:\n",
    "    i +=1\n",
    "    if i == 10:\n",
    "        continue\n",
    "    else:\n",
    "        print(i)"
   ]
  },
  {
   "cell_type": "markdown",
   "id": "d722c087",
   "metadata": {},
   "source": [
    "### For Loops "
   ]
  },
  {
   "cell_type": "markdown",
   "id": "b0401479",
   "metadata": {},
   "source": [
    "for loops döngüsünün mantığı şu şekilde çalışıyor verilen değere kadar ilerliyor nasıl yani şu şekilde diyelim ki 5 sayısını verdik\n",
    "5'e kadar ilerliyor sırasıyla ve döngüsünü bu şekilde tamamlamış oluyor. eğer sadece bir int değer vereceksek range() fonksiyonunu kullanırız ekstra."
   ]
  },
  {
   "cell_type": "code",
   "execution_count": 21,
   "id": "95b9e089",
   "metadata": {},
   "outputs": [
    {
     "name": "stdout",
     "output_type": "stream",
     "text": [
      "0\n",
      "1\n",
      "2\n",
      "3\n",
      "4\n"
     ]
    }
   ],
   "source": [
    "for item in range(5):\n",
    "    print(item)"
   ]
  },
  {
   "cell_type": "markdown",
   "id": "0c8389fa",
   "metadata": {},
   "source": [
    "saymaya sıfırdan başlayarak 5'e kadar ilerledi fakat 5 dahil olmadı bu sayma işlemine"
   ]
  },
  {
   "cell_type": "code",
   "execution_count": 22,
   "id": "5c9f3607",
   "metadata": {},
   "outputs": [
    {
     "name": "stdout",
     "output_type": "stream",
     "text": [
      "Ali\n",
      "Veli\n",
      "Mehmet\n"
     ]
    }
   ],
   "source": [
    "liste = ['Ali','Veli','Mehmet']\n",
    "\n",
    "for item in liste:\n",
    "    print(item)"
   ]
  },
  {
   "cell_type": "code",
   "execution_count": 23,
   "id": "874bde72",
   "metadata": {},
   "outputs": [
    {
     "name": "stdout",
     "output_type": "stream",
     "text": [
      "H\n",
      "e\n",
      "l\n",
      "l\n",
      "o\n",
      " \n",
      "W\n",
      "o\n",
      "r\n",
      "l\n",
      "d\n",
      "!\n"
     ]
    }
   ],
   "source": [
    "greet = \"Hello World!\"\n",
    "for item in greet:\n",
    "    print(item)"
   ]
  },
  {
   "cell_type": "code",
   "execution_count": 24,
   "id": "dc72903b",
   "metadata": {},
   "outputs": [
    {
     "name": "stdout",
     "output_type": "stream",
     "text": [
      "0\n",
      "1\n",
      "2\n",
      "3\n",
      "4\n",
      "5\n"
     ]
    }
   ],
   "source": [
    "for item in range(10):\n",
    "    print(item)\n",
    "    if item == 5:\n",
    "        break"
   ]
  },
  {
   "cell_type": "code",
   "execution_count": 25,
   "id": "f18fc558",
   "metadata": {},
   "outputs": [
    {
     "name": "stdout",
     "output_type": "stream",
     "text": [
      "0\n",
      "1\n",
      "2\n",
      "3\n",
      "4\n",
      "6\n",
      "7\n",
      "8\n",
      "9\n"
     ]
    }
   ],
   "source": [
    "for item in range(10):\n",
    "    if item == 5:\n",
    "        continue\n",
    "    else:\n",
    "        print(item)\n",
    "    "
   ]
  },
  {
   "cell_type": "markdown",
   "id": "2e02e7ce",
   "metadata": {},
   "source": [
    "range() fonksiyonu içerisinde de aslında 3 parametre alıyor range(start location, end location, step) değerleri alabilir içerisine"
   ]
  },
  {
   "cell_type": "code",
   "execution_count": 26,
   "id": "e13c3fb5",
   "metadata": {},
   "outputs": [
    {
     "name": "stdout",
     "output_type": "stream",
     "text": [
      "2\n",
      "4\n",
      "6\n",
      "8\n",
      "10\n",
      "12\n",
      "14\n",
      "16\n",
      "18\n"
     ]
    }
   ],
   "source": [
    "for item in range(2,20,2):\n",
    "    print(item) # burada sadece çift değerleri almış oluyoruz"
   ]
  },
  {
   "cell_type": "code",
   "execution_count": null,
   "id": "7d93709f",
   "metadata": {},
   "outputs": [],
   "source": []
  }
 ],
 "metadata": {
  "kernelspec": {
   "display_name": "Python 3 (ipykernel)",
   "language": "python",
   "name": "python3"
  },
  "language_info": {
   "codemirror_mode": {
    "name": "ipython",
    "version": 3
   },
   "file_extension": ".py",
   "mimetype": "text/x-python",
   "name": "python",
   "nbconvert_exporter": "python",
   "pygments_lexer": "ipython3",
   "version": "3.9.12"
  }
 },
 "nbformat": 4,
 "nbformat_minor": 5
}
