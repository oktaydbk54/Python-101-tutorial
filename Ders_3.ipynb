{
 "cells": [
  {
   "cell_type": "markdown",
   "id": "c844416b",
   "metadata": {},
   "source": [
    "## Tuple"
   ]
  },
  {
   "cell_type": "markdown",
   "id": "7990b2be",
   "metadata": {},
   "source": [
    "Tuple veri türü birden farklı veri türlerini içerisinde barındırabilir(int,string,float,boolean) \n",
    "hiç farketmez hepsini içerisine alabilir.\n",
    "\n",
    "#### Not\n",
    "Tuple veri türü sıralı ve değiştirilemezdir. Tuple veri türü oluştururken parantez aç kapat ile oluştururuz."
   ]
  },
  {
   "cell_type": "code",
   "execution_count": 1,
   "id": "2cdbae96",
   "metadata": {},
   "outputs": [
    {
     "name": "stdout",
     "output_type": "stream",
     "text": [
      "('apple', 'banana', 'cherry')\n"
     ]
    }
   ],
   "source": [
    "thistuple = (\"apple\", \"banana\", \"cherry\")\n",
    "print(thistuple) # Bu şekilde oluşturmuş oluruz"
   ]
  },
  {
   "cell_type": "markdown",
   "id": "ec11d9b0",
   "metadata": {},
   "source": [
    "Tuple öğeleri sıralanır, değiştirilemez ve yinelenen değerlere izin verir.\n",
    "\n",
    "Tuple öğeleri indekslenir, ilk öğenin indeksi vardır [0], ikinci öğenin indeksi [1]vb."
   ]
  },
  {
   "cell_type": "markdown",
   "id": "8f4a5580",
   "metadata": {},
   "source": [
    "#### Değiştirilemez\n",
    "Tuple'lar değiştirilemez, yani tuple oluşturulduktan sonra öğeleri değiştiremez, ekleyemez veya çıkaramayız."
   ]
  },
  {
   "cell_type": "markdown",
   "id": "182e9e8b",
   "metadata": {},
   "source": [
    "bir tuple uzunluğunu bulmak istersek eğer len() fonksiyonunu kullanırız."
   ]
  },
  {
   "cell_type": "markdown",
   "id": "ffd327a9",
   "metadata": {},
   "source": [
    "#### Not!!!\n",
    "Bir Öğe ile Tuple Oluşturun\n",
    "Yalnızca bir öğe içeren bir demet oluşturmak için, öğeden sonra virgül eklemeniz gerekir, aksi takdirde Python onu bir demet olarak tanımaz."
   ]
  },
  {
   "cell_type": "code",
   "execution_count": 2,
   "id": "e36a86c8",
   "metadata": {},
   "outputs": [
    {
     "name": "stdout",
     "output_type": "stream",
     "text": [
      "<class 'tuple'>\n",
      "<class 'tuple'>\n"
     ]
    }
   ],
   "source": [
    "thistuple = (\"apple\",)\n",
    "print(type(thistuple))\n",
    "\n",
    "#NOT a tuple\n",
    "thistuple = (\"apple\",)\n",
    "print(type(thistuple))"
   ]
  },
  {
   "cell_type": "code",
   "execution_count": 3,
   "id": "bad08b5b",
   "metadata": {},
   "outputs": [
    {
     "name": "stdout",
     "output_type": "stream",
     "text": [
      "('abc', 34, True, 40.4, 'male')\n"
     ]
    }
   ],
   "source": [
    "tuple1 = (\"abc\", 34, True, 40.40, \"male\") # bütün birbirinden farklı veri türlerinden barındırabilir\n",
    "print(tuple1)"
   ]
  },
  {
   "cell_type": "markdown",
   "id": "84369666",
   "metadata": {},
   "source": [
    "### Access Tuple Items"
   ]
  },
  {
   "cell_type": "markdown",
   "id": "bb935704",
   "metadata": {},
   "source": [
    "aslında daha öncesinde string ve list veri türü için erişim kısmı burada da tamamen aynı"
   ]
  },
  {
   "cell_type": "code",
   "execution_count": 4,
   "id": "b3b9ce9c",
   "metadata": {},
   "outputs": [
    {
     "name": "stdout",
     "output_type": "stream",
     "text": [
      "banana\n"
     ]
    }
   ],
   "source": [
    "thistuple = (\"apple\", \"banana\", \"cherry\")\n",
    "print(thistuple[1])"
   ]
  },
  {
   "cell_type": "markdown",
   "id": "2000a31d",
   "metadata": {},
   "source": [
    "eğer tersten erişmek istersek sadece -1 gibi değerler vermemiz yeterlidir."
   ]
  },
  {
   "cell_type": "code",
   "execution_count": 5,
   "id": "1e865909",
   "metadata": {},
   "outputs": [
    {
     "name": "stdout",
     "output_type": "stream",
     "text": [
      "cherry\n"
     ]
    }
   ],
   "source": [
    "thistuple = (\"apple\", \"banana\", \"cherry\")\n",
    "print(thistuple[-1])"
   ]
  },
  {
   "cell_type": "code",
   "execution_count": 6,
   "id": "e6adc395",
   "metadata": {},
   "outputs": [
    {
     "name": "stdout",
     "output_type": "stream",
     "text": [
      "('cherry', 'orange', 'kiwi')\n"
     ]
    }
   ],
   "source": [
    "thistuple = (\"apple\", \"banana\", \"cherry\", \"orange\", \"kiwi\", \"melon\", \"mango\")\n",
    "print(thistuple[2:5])"
   ]
  },
  {
   "cell_type": "markdown",
   "id": "17537b08",
   "metadata": {},
   "source": [
    "### Python - Update Tuples"
   ]
  },
  {
   "cell_type": "markdown",
   "id": "d65cec68",
   "metadata": {},
   "source": [
    "şimdi ilk başta dedik ki değiştirilemez peki bu değiştirilemez bir değer ise bunun önüne nasıl geçebilirim ?\n",
    "yani elbette ben buna bir şeyler eklemek isteyeceğim çok büyük bir program yazdığımızı farz edelim bunun içinden nasıl çıkabilirim ?"
   ]
  },
  {
   "cell_type": "markdown",
   "id": "324bf0be",
   "metadata": {},
   "source": [
    "Cevap: kapsama dediğimiz bir yöntem vardır bunu kullanarak istediğimiz gibi değer ekleyip değer değiştirebiliriz"
   ]
  },
  {
   "cell_type": "code",
   "execution_count": 7,
   "id": "cd18eaaa",
   "metadata": {},
   "outputs": [
    {
     "name": "stdout",
     "output_type": "stream",
     "text": [
      "('apple', 'kiwi', 'cherry')\n"
     ]
    }
   ],
   "source": [
    "x = (\"apple\", \"banana\", \"cherry\")\n",
    "y = list(x)\n",
    "y[1] = \"kiwi\"\n",
    "x = tuple(y)\n",
    "\n",
    "print(x)"
   ]
  },
  {
   "cell_type": "markdown",
   "id": "c6b2a267",
   "metadata": {},
   "source": [
    "burada ilk önce bir tuple değişkeni oluşturduk ve sonrasında bunu list fonksiyonu içerisine koyduk ve list veri türüne dönüşmüş\n",
    "oldu sonrasında istediğimiz index değerine yeni değişken değerini ekleyip tekrardan tuple veri türüne dönüştürüp bitiriyoruz"
   ]
  },
  {
   "cell_type": "markdown",
   "id": "b594e17e",
   "metadata": {},
   "source": [
    "### Add Items"
   ]
  },
  {
   "cell_type": "markdown",
   "id": "456a33f0",
   "metadata": {},
   "source": [
    "bir değer eklemek istediğimiz zaman tekrar kapsama tekniğini kullanarak list veri türüne dönüştürüyoruz ve append fonksiyonu kullanarak ekliyoruz sonrasında tekrar tuple veri türüne dönüştürüyoruz."
   ]
  },
  {
   "cell_type": "code",
   "execution_count": 8,
   "id": "eb2d017e",
   "metadata": {},
   "outputs": [
    {
     "name": "stdout",
     "output_type": "stream",
     "text": [
      "('apple', 'banana', 'cherry', 'orange')\n"
     ]
    }
   ],
   "source": [
    "thistuple = (\"apple\", \"banana\", \"cherry\")\n",
    "y = list(thistuple)\n",
    "y.append(\"orange\")\n",
    "thistuple = tuple(y)\n",
    "print(thistuple)"
   ]
  },
  {
   "cell_type": "markdown",
   "id": "406e6c1c",
   "metadata": {},
   "source": [
    "2.bir yol ise direkt 2 farklı tuple değeri toplamak"
   ]
  },
  {
   "cell_type": "code",
   "execution_count": 9,
   "id": "576b9729",
   "metadata": {},
   "outputs": [
    {
     "name": "stdout",
     "output_type": "stream",
     "text": [
      "('apple', 'banana', 'cherry', 'orange')\n"
     ]
    }
   ],
   "source": [
    "thistuple = (\"apple\", \"banana\", \"cherry\")\n",
    "y = (\"orange\",   )\n",
    "thistuple += y\n",
    "\n",
    "print(thistuple)"
   ]
  },
  {
   "cell_type": "markdown",
   "id": "d813a725",
   "metadata": {},
   "source": [
    "### Remove Items"
   ]
  },
  {
   "cell_type": "markdown",
   "id": "4eb7cd3a",
   "metadata": {},
   "source": [
    "Tuple değişkenden bir değer silmek istersek eğer yine kapsama yöntemi ile list veri türüne dönüştürüp sonrasında remove fonksiyonu kullanarak içerisinden silebiliriz"
   ]
  },
  {
   "cell_type": "code",
   "execution_count": 10,
   "id": "fb4f5ac4",
   "metadata": {},
   "outputs": [
    {
     "name": "stdout",
     "output_type": "stream",
     "text": [
      "('banana', 'cherry')\n"
     ]
    }
   ],
   "source": [
    "thistuple = (\"apple\", \"banana\", \"cherry\")\n",
    "y = list(thistuple)\n",
    "y.remove(\"apple\")\n",
    "thistuple = tuple(y)\n",
    "print(thistuple)"
   ]
  },
  {
   "cell_type": "markdown",
   "id": "c00e7403",
   "metadata": {},
   "source": [
    "### Join Two Tuples"
   ]
  },
  {
   "cell_type": "markdown",
   "id": "9c45564a",
   "metadata": {},
   "source": [
    "eğer elimizde 2 tuple değerimiz varsa bunları direkt + sembolü sayesinde birleştirebiliriz"
   ]
  },
  {
   "cell_type": "code",
   "execution_count": 11,
   "id": "6c22d0f1",
   "metadata": {},
   "outputs": [
    {
     "name": "stdout",
     "output_type": "stream",
     "text": [
      "('a', 'b', 'c', 1, 2, 3)\n"
     ]
    }
   ],
   "source": [
    "tuple1 = (\"a\", \"b\" , \"c\")\n",
    "tuple2 = (1, 2, 3)\n",
    "\n",
    "tuple3 = tuple1 + tuple2\n",
    "print(tuple3)"
   ]
  },
  {
   "cell_type": "markdown",
   "id": "e84e1c17",
   "metadata": {},
   "source": [
    "### Multiply Tuples"
   ]
  },
  {
   "cell_type": "markdown",
   "id": "070eb2ec",
   "metadata": {},
   "source": [
    "aynı şekilde elimizde ki tuple değişkenini istediğimiz kadar tekrarlanmasını istersek sadece çarpma işareti * kullanarak istediğimiz kadar tekrar edilmesini sağlayabiliriz."
   ]
  },
  {
   "cell_type": "code",
   "execution_count": 12,
   "id": "1e57da3d",
   "metadata": {},
   "outputs": [
    {
     "name": "stdout",
     "output_type": "stream",
     "text": [
      "('apple', 'banana', 'cherry', 'apple', 'banana', 'cherry')\n"
     ]
    }
   ],
   "source": [
    "fruits = (\"apple\", \"banana\", \"cherry\")\n",
    "mytuple = fruits * 2\n",
    "\n",
    "print(mytuple)"
   ]
  },
  {
   "cell_type": "markdown",
   "id": "0d605d55",
   "metadata": {},
   "source": [
    "#### Tuple methods \n",
    "https://www.w3schools.com/python/python_tuples_methods.asp"
   ]
  },
  {
   "cell_type": "markdown",
   "id": "5d89b6e5",
   "metadata": {},
   "source": [
    "## Python Sets"
   ]
  },
  {
   "cell_type": "markdown",
   "id": "ef8990d6",
   "metadata": {},
   "source": [
    "Set veri türü en zorlu olanlardan birisi ama sebebi anlaşılması zor olduğundan değil aksine anlaşılması çok kolay çünkü sıralanmayan bir veri türü, değiştirilemez ve bir değerden sadece 1 tane eklenebilir 2.inci aynı bir değer eklenemez\n",
    "Set veri türü oluşturmak için süslü parantez açıp kapatılması gerekir {} "
   ]
  },
  {
   "cell_type": "code",
   "execution_count": 13,
   "id": "5786d3fd",
   "metadata": {},
   "outputs": [
    {
     "name": "stdout",
     "output_type": "stream",
     "text": [
      "{'apple', 'cherry', 'banana'}\n"
     ]
    }
   ],
   "source": [
    "myset = {\"apple\", \"banana\", \"cherry\"}\n",
    "print(myset)"
   ]
  },
  {
   "cell_type": "markdown",
   "id": "10c0d343",
   "metadata": {},
   "source": [
    "içerisine bütün veri türlerinden değer alabilir."
   ]
  },
  {
   "cell_type": "code",
   "execution_count": 14,
   "id": "50949d91",
   "metadata": {},
   "outputs": [
    {
     "name": "stdout",
     "output_type": "stream",
     "text": [
      "{True, 34, 'male', 40, 'abc'}\n"
     ]
    }
   ],
   "source": [
    "set1 = {\"abc\", 34, True, 40, \"male\"}\n",
    "print(set1)"
   ]
  },
  {
   "cell_type": "markdown",
   "id": "32149d70",
   "metadata": {},
   "source": [
    "#### Access Items"
   ]
  },
  {
   "cell_type": "markdown",
   "id": "49e65eaa",
   "metadata": {},
   "source": [
    "set veri türünde değişkenleri index sayısına göre çağıramıyoruz o yüzden 2 seçeneğimiz var.\n",
    "1-) for loop kullanarak sırayla teker teker yazdırmak\n",
    "2-) in değerini kullanarak içerisinde olup olmadığını öğrenebiliriz."
   ]
  },
  {
   "cell_type": "code",
   "execution_count": 15,
   "id": "efbef8d4",
   "metadata": {},
   "outputs": [
    {
     "name": "stdout",
     "output_type": "stream",
     "text": [
      "{'banana', 'dasdsad', 'cherry', 'eldld', 'apple'}\n"
     ]
    }
   ],
   "source": [
    "thisset = {\"apple\", \"banana\", \"cherry\",'dasdsad','eldld'}\n",
    "set_to_list = list(thisset)\n",
    "set_to_list.sort()\n",
    "newset = set(set_to_list)\n",
    "print(newset)"
   ]
  },
  {
   "cell_type": "code",
   "execution_count": 16,
   "id": "e00f0e77",
   "metadata": {},
   "outputs": [
    {
     "name": "stdout",
     "output_type": "stream",
     "text": [
      "apple\n",
      "cherry\n",
      "banana\n"
     ]
    }
   ],
   "source": [
    "### 1.inci   X         X         X\n",
    "thisset = {\"apple\", \"banana\", \"cherry\"}\n",
    "\n",
    "for x in thisset:\n",
    "    print(x)"
   ]
  },
  {
   "cell_type": "code",
   "execution_count": 17,
   "id": "508772b0",
   "metadata": {},
   "outputs": [
    {
     "name": "stdout",
     "output_type": "stream",
     "text": [
      "True\n"
     ]
    }
   ],
   "source": [
    "### 2.inci yol\n",
    "thisset = {\"apple\", \"banana\", \"cherry\"}\n",
    "\n",
    "print(\"banana\" in thisset)"
   ]
  },
  {
   "cell_type": "markdown",
   "id": "b62526e6",
   "metadata": {},
   "source": [
    "### Python - Add Set Items"
   ]
  },
  {
   "cell_type": "markdown",
   "id": "873fa5b4",
   "metadata": {},
   "source": [
    "eğer yeni bir veri türü eklemek istersek add() fonksiyonunu kullanabiliriz."
   ]
  },
  {
   "cell_type": "code",
   "execution_count": 18,
   "id": "9a136b45",
   "metadata": {},
   "outputs": [
    {
     "name": "stdout",
     "output_type": "stream",
     "text": [
      "{'apple', 'orange', 'cherry', 'banana'}\n"
     ]
    }
   ],
   "source": [
    "thisset = {\"apple\", \"banana\", \"cherry\"}\n",
    "\n",
    "thisset.add(\"orange\")\n",
    "\n",
    "print(thisset)"
   ]
  },
  {
   "cell_type": "markdown",
   "id": "818c28d4",
   "metadata": {},
   "source": [
    "eğer ki elimizde 2 tane set değer var ve bunları bir tanesi içerisinde birleştirmek istersek o zaman update() fonksiyonu kullanırız"
   ]
  },
  {
   "cell_type": "code",
   "execution_count": 19,
   "id": "8d4f4757",
   "metadata": {},
   "outputs": [
    {
     "name": "stdout",
     "output_type": "stream",
     "text": [
      "{'apple', 'papaya', 'pineapple', 'banana', 'mango', 'cherry'}\n"
     ]
    }
   ],
   "source": [
    "thisset = {\"apple\", \"banana\", \"cherry\"}\n",
    "tropical = {\"pineapple\", \"mango\", \"papaya\"}\n",
    "\n",
    "thisset.update(tropical)\n",
    "\n",
    "print(thisset)"
   ]
  },
  {
   "cell_type": "markdown",
   "id": "7212e0a9",
   "metadata": {},
   "source": [
    "elimizde sadece 1 tane set değer olursa ve 2.inci tür list veya başka bir değişken tuple gibi veri türü olursa yine set üzerinde ekleyebiliriz ve yine update() fonksiyonunu kullanabiliriz"
   ]
  },
  {
   "cell_type": "code",
   "execution_count": 20,
   "id": "ca524c60",
   "metadata": {},
   "outputs": [
    {
     "name": "stdout",
     "output_type": "stream",
     "text": [
      "{'banana', 'kiwi', 'cherry', 'apple', 'orange'}\n"
     ]
    }
   ],
   "source": [
    "thisset = {\"apple\", \"banana\", \"cherry\"}\n",
    "mylist = [\"kiwi\", \"orange\"]\n",
    "\n",
    "thisset.update(mylist)\n",
    "\n",
    "print(thisset)"
   ]
  },
  {
   "cell_type": "markdown",
   "id": "ac58094a",
   "metadata": {},
   "source": [
    "### Python - Remove Set Items"
   ]
  },
  {
   "cell_type": "markdown",
   "id": "795f7208",
   "metadata": {},
   "source": [
    "eğer bir değeri çıkarmak istiyorsak kullanabileceğimiz 2 method var bunlardan biri remove() diğer discard() fonksiyonları"
   ]
  },
  {
   "cell_type": "code",
   "execution_count": 21,
   "id": "76c2f71f",
   "metadata": {},
   "outputs": [
    {
     "ename": "KeyError",
     "evalue": "'tomato'",
     "output_type": "error",
     "traceback": [
      "\u001b[1;31m---------------------------------------------------------------------------\u001b[0m",
      "\u001b[1;31mKeyError\u001b[0m                                  Traceback (most recent call last)",
      "Input \u001b[1;32mIn [21]\u001b[0m, in \u001b[0;36m<cell line: 3>\u001b[1;34m()\u001b[0m\n\u001b[0;32m      1\u001b[0m thisset \u001b[38;5;241m=\u001b[39m {\u001b[38;5;124m\"\u001b[39m\u001b[38;5;124mapple\u001b[39m\u001b[38;5;124m\"\u001b[39m, \u001b[38;5;124m\"\u001b[39m\u001b[38;5;124mbanana\u001b[39m\u001b[38;5;124m\"\u001b[39m, \u001b[38;5;124m\"\u001b[39m\u001b[38;5;124mcherry\u001b[39m\u001b[38;5;124m\"\u001b[39m}\n\u001b[1;32m----> 3\u001b[0m \u001b[43mthisset\u001b[49m\u001b[38;5;241;43m.\u001b[39;49m\u001b[43mremove\u001b[49m\u001b[43m(\u001b[49m\u001b[38;5;124;43m\"\u001b[39;49m\u001b[38;5;124;43mtomato\u001b[39;49m\u001b[38;5;124;43m\"\u001b[39;49m\u001b[43m)\u001b[49m\n\u001b[0;32m      5\u001b[0m \u001b[38;5;28mprint\u001b[39m(thisset)\n",
      "\u001b[1;31mKeyError\u001b[0m: 'tomato'"
     ]
    }
   ],
   "source": [
    "thisset = {\"apple\", \"banana\", \"cherry\"}\n",
    "\n",
    "thisset.remove(\"tomato\")\n",
    "\n",
    "print(thisset)"
   ]
  },
  {
   "cell_type": "code",
   "execution_count": null,
   "id": "b2045e0c",
   "metadata": {},
   "outputs": [],
   "source": [
    "thisset = {\"apple\", \"banana\", \"cherry\"}\n",
    "\n",
    "thisset.discard(\"tomato\")\n",
    "\n",
    "print(thisset)"
   ]
  },
  {
   "cell_type": "markdown",
   "id": "279547d9",
   "metadata": {},
   "source": [
    "şimdi şöyle bir şey var peki remove ile discard arasında ki fark ne ? yani neden sadece bir tanesini oluşturmamışlar ki çok saçma olurdu arada ki fark şu diyelim ki milyon satırlık bir değişken olduğunu düşünelim ve içerisinde bir değer var mı yok mu emin değilim ama yine de şansımı denemek istiyorum işte hata verip programın durmamasını istersem burada discard kullanırım."
   ]
  },
  {
   "cell_type": "markdown",
   "id": "319a884e",
   "metadata": {},
   "source": [
    "### Join Two Sets"
   ]
  },
  {
   "cell_type": "markdown",
   "id": "6105a03c",
   "metadata": {},
   "source": [
    "iki set değerini birleştirmek için kullanabileceğimiz methodlardan bir tanesi union() fonksiyonudur."
   ]
  },
  {
   "cell_type": "code",
   "execution_count": null,
   "id": "2566a489",
   "metadata": {},
   "outputs": [],
   "source": [
    "set1 = {\"a\", \"b\" , \"c\"}\n",
    "set2 = {1, 2, 3}\n",
    "\n",
    "set3 = set1.union(set2)\n",
    "print(set3)"
   ]
  },
  {
   "cell_type": "markdown",
   "id": "59331797",
   "metadata": {},
   "source": [
    "aynı şekilde bir diğer method update() fonksiyonudur."
   ]
  },
  {
   "cell_type": "code",
   "execution_count": null,
   "id": "a4dd8dea",
   "metadata": {},
   "outputs": [],
   "source": [
    "set1 = {\"a\", \"b\" , \"c\"}\n",
    "set2 = {1, 2, 3}\n",
    "\n",
    "set1.update(set2)\n",
    "print(set1)"
   ]
  },
  {
   "cell_type": "markdown",
   "id": "7c646ea0",
   "metadata": {},
   "source": [
    "bir diğer fonksiyon ise intersection_update() fonksiyonudur bu fonksiyon elimizde aynı değeri farklı set değerlerin içinde olduğu zaman bunu bize göstermesi için kullanırız"
   ]
  },
  {
   "cell_type": "code",
   "execution_count": null,
   "id": "81b3ff2a",
   "metadata": {},
   "outputs": [],
   "source": [
    "x = {\"apple\", \"banana\", \"cherry\"}\n",
    "y = {\"google\", \"microsoft\", \"apple\"}\n",
    "\n",
    "x.intersection_update(y)\n",
    "\n",
    "print(x)"
   ]
  },
  {
   "cell_type": "markdown",
   "id": "85c4f551",
   "metadata": {},
   "source": [
    "### Set Methods\n",
    "https://www.w3schools.com/python/python_sets_methods.asp"
   ]
  },
  {
   "cell_type": "markdown",
   "id": "991572a1",
   "metadata": {},
   "source": [
    "## Python Dictionaries"
   ]
  },
  {
   "cell_type": "markdown",
   "id": "bcc80951",
   "metadata": {},
   "source": [
    "Dict değişken veri türünde key:value mantığı vardır. yani aslında gerçekten sözlük gibi bir kelime vardır karşısında bir anlamı vardır burada da öyle bir mantık işlenir gerçekten"
   ]
  },
  {
   "cell_type": "code",
   "execution_count": null,
   "id": "9e702a63",
   "metadata": {},
   "outputs": [],
   "source": [
    "thisdict = {\n",
    "  \"brand\": \"Ford\",\n",
    "  \"model\": \"Mustang\",\n",
    "  \"year\": 1964\n",
    "}\n",
    "print(thisdict)"
   ]
  },
  {
   "cell_type": "markdown",
   "id": "08256217",
   "metadata": {},
   "source": [
    "Yukarıda ki gördüğümüz örnek gibi brand bir kelime ve karşılığında bir anlamı varmış gibi düşünebiliriz."
   ]
  },
  {
   "cell_type": "markdown",
   "id": "41a6a23b",
   "metadata": {},
   "source": [
    "normal index değeri sayılar yerine burada direkt key kısmını vererek erişebiliriz"
   ]
  },
  {
   "cell_type": "code",
   "execution_count": null,
   "id": "43da0406",
   "metadata": {},
   "outputs": [],
   "source": [
    "thisdict = {\n",
    "  \"brand\": \"Ford\",\n",
    "  \"model\": \"Mustang\",\n",
    "  \"year\": 1964\n",
    "}\n",
    "print(thisdict[\"brand\"])"
   ]
  },
  {
   "cell_type": "markdown",
   "id": "08bc2a8a",
   "metadata": {},
   "source": [
    "içerisine istediğimiz kadar farklı veri türü değeri vereibliriz yani list tuple set hepsini ama hepsini alabilir."
   ]
  },
  {
   "cell_type": "code",
   "execution_count": null,
   "id": "13848dfb",
   "metadata": {},
   "outputs": [],
   "source": [
    "thisdict = {\n",
    "  \"brand\": \"Ford\",\n",
    "  \"electric\": False,\n",
    "  \"year\": 1964,\n",
    "  \"colors\": [\"red\", \"white\", \"blue\"]\n",
    "}\n",
    "print(thisdict)"
   ]
  },
  {
   "cell_type": "markdown",
   "id": "bfe08cdd",
   "metadata": {},
   "source": [
    "### Python - Access Dictionary Items"
   ]
  },
  {
   "cell_type": "code",
   "execution_count": null,
   "id": "05993c39",
   "metadata": {},
   "outputs": [],
   "source": [
    "thisdict = {\n",
    "  \"brand\": \"Ford\",\n",
    "  \"model\": \"Mustang\",\n",
    "  \"year\": 1964,\n",
    "    'color':'red',\n",
    "    'people':5\n",
    "}\n",
    "print(thisdict[\"brand\"])\n",
    "\n",
    "value = thisdict.get('model')\n",
    "print(value)"
   ]
  },
  {
   "cell_type": "markdown",
   "id": "5adb14ee",
   "metadata": {},
   "source": [
    "### keys() Dict"
   ]
  },
  {
   "cell_type": "code",
   "execution_count": null,
   "id": "c156487f",
   "metadata": {},
   "outputs": [],
   "source": [
    "x = thisdict.keys()\n",
    "print(x)"
   ]
  },
  {
   "cell_type": "code",
   "execution_count": null,
   "id": "d28b4f54",
   "metadata": {},
   "outputs": [],
   "source": [
    "thisdict['model'] = 'Skyline'\n",
    "print(thisdict)"
   ]
  },
  {
   "cell_type": "markdown",
   "id": "d64d5778",
   "metadata": {},
   "source": [
    "### values() Dict"
   ]
  },
  {
   "cell_type": "code",
   "execution_count": null,
   "id": "66f14afa",
   "metadata": {},
   "outputs": [],
   "source": [
    "print(thisdict.values())"
   ]
  },
  {
   "cell_type": "markdown",
   "id": "c71fa0ee",
   "metadata": {},
   "source": [
    "### items() Dict"
   ]
  },
  {
   "cell_type": "code",
   "execution_count": null,
   "id": "f7ac08d3",
   "metadata": {},
   "outputs": [],
   "source": [
    "print(thisdict.items())"
   ]
  },
  {
   "cell_type": "markdown",
   "id": "11ed357d",
   "metadata": {},
   "source": [
    "### update() Dict"
   ]
  },
  {
   "cell_type": "code",
   "execution_count": null,
   "id": "c1f257f4",
   "metadata": {},
   "outputs": [],
   "source": [
    "thisdict.update({'model':'Mustang'})\n",
    "print(thisdict)"
   ]
  },
  {
   "cell_type": "code",
   "execution_count": null,
   "id": "a9502d49",
   "metadata": {},
   "outputs": [],
   "source": [
    "thisdict['tekerlek'] = 4\n",
    "\n",
    "print(thisdict)"
   ]
  },
  {
   "cell_type": "markdown",
   "id": "30b46a0c",
   "metadata": {},
   "source": [
    "### pop() Dict"
   ]
  },
  {
   "cell_type": "code",
   "execution_count": null,
   "id": "92ac7427",
   "metadata": {},
   "outputs": [],
   "source": [
    "thisdict.pop('tekerlek')\n",
    "print(thisdict)"
   ]
  },
  {
   "cell_type": "markdown",
   "id": "58a3c430",
   "metadata": {},
   "source": [
    "### popitem() Dict"
   ]
  },
  {
   "cell_type": "code",
   "execution_count": null,
   "id": "efa552fe",
   "metadata": {},
   "outputs": [],
   "source": [
    "thisdict.popitem()\n",
    "print(thisdict)"
   ]
  },
  {
   "cell_type": "markdown",
   "id": "ab24cfb9",
   "metadata": {},
   "source": [
    "### clear() Dict"
   ]
  },
  {
   "cell_type": "code",
   "execution_count": null,
   "id": "0083bcac",
   "metadata": {},
   "outputs": [],
   "source": [
    "thisdict.clear()\n",
    "print(thisdict)"
   ]
  },
  {
   "cell_type": "code",
   "execution_count": null,
   "id": "65d40dd0",
   "metadata": {},
   "outputs": [],
   "source": [
    "thisdict = {\n",
    "  \"brand\": \"Ford\",\n",
    "  \"model\": \"Mustang\",\n",
    "  \"year\": 1964\n",
    "}"
   ]
  },
  {
   "cell_type": "code",
   "execution_count": null,
   "id": "666c856f",
   "metadata": {},
   "outputs": [],
   "source": [
    "copy_dict = thisdict.copy()\n",
    "print(copy_dict)"
   ]
  },
  {
   "cell_type": "code",
   "execution_count": null,
   "id": "909d1479",
   "metadata": {},
   "outputs": [],
   "source": [
    "myfamily = {\n",
    "  \"child1\" : {\n",
    "    \"name\" : \"Emil\",\n",
    "    \"year\" : 2004\n",
    "  },\n",
    "  \"child2\" : {\n",
    "    \"name\" : \"Tobias\",\n",
    "    \"year\" : 2007\n",
    "  },\n",
    "  \"child3\" : {\n",
    "    \"name\" : \"Linus\",\n",
    "    \"year\" : 2011\n",
    "  }\n",
    "}\n",
    "\n",
    "print(myfamily['child2'],myfamily['child1'])"
   ]
  },
  {
   "cell_type": "code",
   "execution_count": null,
   "id": "eb960752",
   "metadata": {},
   "outputs": [],
   "source": [
    "### Dict Methods\n",
    "https://www.w3schools.com/python/python_dictionaries_methods.asp"
   ]
  },
  {
   "cell_type": "code",
   "execution_count": null,
   "id": "c37ab7e1",
   "metadata": {},
   "outputs": [],
   "source": [
    "json_Example = {\n",
    "    \"quiz\": {\n",
    "        \"sport\": {\n",
    "            \"q1\": {\n",
    "                \"question\": \"Which one is correct team name in NBA?\",\n",
    "                \"options\": [\n",
    "                    \"New York Bulls\",\n",
    "                    \"Los Angeles Kings\",\n",
    "                    \"Golden State Warriros\",\n",
    "                    \"Huston Rocket\"\n",
    "                ],\n",
    "                \"answer\": \"Huston Rocket\"\n",
    "            }\n",
    "        },\n",
    "        \"maths\": {\n",
    "            \"q1\": {\n",
    "                \"question\": \"5 + 7 = ?\",\n",
    "                \"options\": [\n",
    "                    \"10\",\n",
    "                    \"11\",\n",
    "                    \"12\",\n",
    "                    \"13\"\n",
    "                ],\n",
    "                \"answer\": \"12\"\n",
    "            },\n",
    "            \"q2\": {\n",
    "                \"question\": \"12 - 8 = ?\",\n",
    "                \"options\": [\n",
    "                    \"1\",\n",
    "                    \"2\",\n",
    "                    \"3\",\n",
    "                    \"4\"\n",
    "                ],\n",
    "                \"answer\": \"4\"\n",
    "            }\n",
    "        }\n",
    "    }\n",
    "}"
   ]
  },
  {
   "cell_type": "code",
   "execution_count": null,
   "id": "080304e5",
   "metadata": {},
   "outputs": [],
   "source": [
    "json_Example['quiz']['maths']['q1']['options'] = [20,21,23,25]\n",
    "json_Example['quiz']['maths']['q1']"
   ]
  },
  {
   "cell_type": "code",
   "execution_count": null,
   "id": "3097561f",
   "metadata": {},
   "outputs": [],
   "source": []
  }
 ],
 "metadata": {
  "kernelspec": {
   "display_name": "Python 3 (ipykernel)",
   "language": "python",
   "name": "python3"
  },
  "language_info": {
   "codemirror_mode": {
    "name": "ipython",
    "version": 3
   },
   "file_extension": ".py",
   "mimetype": "text/x-python",
   "name": "python",
   "nbconvert_exporter": "python",
   "pygments_lexer": "ipython3",
   "version": "3.9.12"
  }
 },
 "nbformat": 4,
 "nbformat_minor": 5
}
