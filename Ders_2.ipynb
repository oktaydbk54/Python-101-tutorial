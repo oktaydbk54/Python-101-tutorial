{
 "cells": [
  {
   "cell_type": "markdown",
   "id": "ebffa940",
   "metadata": {},
   "source": [
    "# Boolean Values"
   ]
  },
  {
   "cell_type": "markdown",
   "id": "c9d8d2d5",
   "metadata": {},
   "source": [
    "Yazılım dillerinin en önemli konularından birisi olan ve aslında tüm sistemin başlangıç noktası olan\n",
    "True ve False konusudur matrix filminde gördüğümüz 0 ve 1 ler aslında.\n",
    "hemen kısaca açıklayayım. Ortada olan bir koşul durumu tamamlanırsa sonuç True dönmüş olur eğer tamamlanamazsa False dönüş olur.\n",
    "Gerçek hayattan bir örnek vereyim cebimde 50 tl olduğunu düşünelim ve markete gittim, sonrasında çikolata almak istiyorum\n",
    "fakat çikolata 50 TL'den fazla bu sefer alamam çünkü param yetersiz ve durumum False olmuş olur. ama çikolatayı alsaydım True olurdu."
   ]
  },
  {
   "cell_type": "code",
   "execution_count": 1,
   "id": "85a87394",
   "metadata": {},
   "outputs": [
    {
     "name": "stdout",
     "output_type": "stream",
     "text": [
      "True\n",
      "False\n",
      "False\n"
     ]
    }
   ],
   "source": [
    "print(10 > 9)\n",
    "print(10 == 9)\n",
    "print(10 < 9)"
   ]
  },
  {
   "cell_type": "markdown",
   "id": "d5652383",
   "metadata": {},
   "source": [
    "Python yazılım dilinde sadece tek bir koşul var sonuçun False olması için bu da değerimizin 0 olması"
   ]
  },
  {
   "cell_type": "markdown",
   "id": "d41b7622",
   "metadata": {},
   "source": [
    "ve değişken değeri boolean değişkenlerinin bool() fonksiyonunu kullanırız bu şekilde gerçek değerlerini görürüz."
   ]
  },
  {
   "cell_type": "code",
   "execution_count": 2,
   "id": "215ac766",
   "metadata": {},
   "outputs": [
    {
     "name": "stdout",
     "output_type": "stream",
     "text": [
      "True\n",
      "True\n",
      "False\n"
     ]
    }
   ],
   "source": [
    "print(bool(\"Hello\"))\n",
    "print(bool(15))\n",
    "print(bool(0))"
   ]
  },
  {
   "cell_type": "markdown",
   "id": "d14a2765",
   "metadata": {},
   "source": [
    "aşağıda ki değerler harici bütün değerler True olarak dönüş yapar"
   ]
  },
  {
   "cell_type": "code",
   "execution_count": 3,
   "id": "4cafa689",
   "metadata": {},
   "outputs": [
    {
     "data": {
      "text/plain": [
       "False"
      ]
     },
     "execution_count": 3,
     "metadata": {},
     "output_type": "execute_result"
    }
   ],
   "source": [
    "bool(False)\n",
    "bool(None)\n",
    "bool(0)\n",
    "bool(\"\")\n",
    "bool(())\n",
    "bool([])\n",
    "bool({})"
   ]
  },
  {
   "cell_type": "markdown",
   "id": "e7644047",
   "metadata": {},
   "source": [
    "### Python Arithmetic Operators"
   ]
  },
  {
   "cell_type": "code",
   "execution_count": 4,
   "id": "3b779037",
   "metadata": {},
   "outputs": [
    {
     "name": "stdout",
     "output_type": "stream",
     "text": [
      "15\n",
      "5\n",
      "50\n",
      "2.0\n",
      "Kalan =  1\n",
      "karesi =  100000\n",
      "bölüm = 3\n"
     ]
    }
   ],
   "source": [
    "print(10 + 5)\n",
    "print(10 - 5)\n",
    "print(10 * 5)\n",
    "print(10 / 5)\n",
    "print(\"Kalan = \",11 % 5)\n",
    "print(\"karesi = \",10 ** 5)\n",
    "print(\"bölüm =\",15 // 5)"
   ]
  },
  {
   "cell_type": "markdown",
   "id": "ad4fbba8",
   "metadata": {},
   "source": [
    "### Python Assignment Operators"
   ]
  },
  {
   "cell_type": "code",
   "execution_count": 5,
   "id": "8c21a484",
   "metadata": {},
   "outputs": [
    {
     "name": "stdout",
     "output_type": "stream",
     "text": [
      "toplama =  105\n",
      "çıkarma =  100\n",
      "çarpma =  500\n",
      "bölme =  100.0\n",
      "kalan =  0.0\n",
      "karesi =  0.0\n",
      "bölüm =  0.0\n"
     ]
    }
   ],
   "source": [
    "x = 100\n",
    "\n",
    "\n",
    "x += 5\n",
    "print(\"toplama = \",x)\n",
    "x -= 5\n",
    "print(\"çıkarma = \",x)\n",
    "x *= 5\n",
    "print(\"çarpma = \",x)\n",
    "x /= 5\n",
    "print(\"bölme = \",x)\n",
    "x %= 5\n",
    "print(\"kalan = \",x)\n",
    "x **= 5\n",
    "print(\"karesi = \",x)\n",
    "x //= 5\n",
    "print(\"bölüm = \",x)\n"
   ]
  },
  {
   "cell_type": "markdown",
   "id": "05b21866",
   "metadata": {},
   "source": [
    "### Python Comparison Operators"
   ]
  },
  {
   "cell_type": "code",
   "execution_count": 6,
   "id": "e90f6701",
   "metadata": {},
   "outputs": [
    {
     "name": "stdout",
     "output_type": "stream",
     "text": [
      "False\n",
      "True\n",
      "False\n",
      "True\n",
      "False\n",
      "True\n"
     ]
    }
   ],
   "source": [
    "x = 10\n",
    "y = 15\n",
    "print(x == y)\n",
    "print(x != y)\n",
    "print(x > y)\n",
    "print(x < y)\n",
    "print(x >= y)\n",
    "print(x <= y)"
   ]
  },
  {
   "cell_type": "markdown",
   "id": "44cd110d",
   "metadata": {},
   "source": [
    "### Python Logical Operators"
   ]
  },
  {
   "cell_type": "code",
   "execution_count": 7,
   "id": "82b8cf99",
   "metadata": {},
   "outputs": [
    {
     "name": "stdout",
     "output_type": "stream",
     "text": [
      "True\n",
      "True\n",
      "True\n"
     ]
    }
   ],
   "source": [
    "a = 20\n",
    "b = 10\n",
    "c = 15\n",
    "print(a > b and c > b)\n",
    "print(b < a or c < b)\n",
    "print(not(a > b and c < b))"
   ]
  },
  {
   "cell_type": "markdown",
   "id": "c78a7a6a",
   "metadata": {},
   "source": [
    "### Python Membership Operators"
   ]
  },
  {
   "cell_type": "code",
   "execution_count": 8,
   "id": "12976495",
   "metadata": {},
   "outputs": [
    {
     "name": "stdout",
     "output_type": "stream",
     "text": [
      "True\n"
     ]
    }
   ],
   "source": [
    "x = [\"apple\", \"banana\"]\n",
    "\n",
    "print(\"banana\" in x)"
   ]
  },
  {
   "cell_type": "code",
   "execution_count": 9,
   "id": "0b3f73de",
   "metadata": {},
   "outputs": [
    {
     "name": "stdout",
     "output_type": "stream",
     "text": [
      "True\n"
     ]
    }
   ],
   "source": [
    "x = [\"apple\", \"banana\"]\n",
    "\n",
    "print(\"pineapple\" not in x)\n"
   ]
  },
  {
   "cell_type": "markdown",
   "id": "33235422",
   "metadata": {},
   "source": [
    "## Python Lists"
   ]
  },
  {
   "cell_type": "markdown",
   "id": "d56dd416",
   "metadata": {},
   "source": [
    "Listeler aslında kısa mantığını özetlemek istersem birden fazla olan değişkenleri dağınık durmaması için bir sepete koyduğumuzu düşünelim. mesela odamız çok dağınık elimize bir sepet alıp elbiseleri koymaya başlarsak elbisenin türü rengi farketmeden sepete koyabiliriz. Tam olarak işte pythonda listeler böyle işler içerisine bütün değişkenleri koyabiliriz."
   ]
  },
  {
   "cell_type": "markdown",
   "id": "a7a078e2",
   "metadata": {},
   "source": [
    "bir List değişkeni tanımlamak için şu dizimi takip ederiz:\n",
    "\n",
    "my_list = [ degerler ]"
   ]
  },
  {
   "cell_type": "code",
   "execution_count": 10,
   "id": "c8840f3f",
   "metadata": {},
   "outputs": [
    {
     "name": "stdout",
     "output_type": "stream",
     "text": [
      "['apple', 'banana', 'cherry', 'apple', 'banana', 'cherry', 'apple', 'banana', 'cherry', 'apple', 'banana', 'cherry']\n"
     ]
    }
   ],
   "source": [
    "\n",
    "thislist = [\"apple\", \"banana\", \"cherry\",\"apple\", \"banana\", \"cherry\",\"apple\", \"banana\", \"cherry\",\"apple\", \"banana\", \"cherry\"]\n",
    "print(thislist)"
   ]
  },
  {
   "cell_type": "markdown",
   "id": "f8724fc8",
   "metadata": {},
   "source": [
    "daha önce string değerlerinde gördüğümüz gibi parçalama işlemi veya bir değere ulaşmak için [index_numarası] verdiğimiz gibi\n",
    "aynısını listelerde de yapıyoruz."
   ]
  },
  {
   "cell_type": "code",
   "execution_count": 11,
   "id": "9c6d2326",
   "metadata": {},
   "outputs": [
    {
     "data": {
      "text/plain": [
       "'apple'"
      ]
     },
     "execution_count": 11,
     "metadata": {},
     "output_type": "execute_result"
    }
   ],
   "source": [
    "thislist[0]"
   ]
  },
  {
   "cell_type": "code",
   "execution_count": 12,
   "id": "2a8ccffb",
   "metadata": {},
   "outputs": [
    {
     "data": {
      "text/plain": [
       "'banana'"
      ]
     },
     "execution_count": 12,
     "metadata": {},
     "output_type": "execute_result"
    }
   ],
   "source": [
    "thislist[1]"
   ]
  },
  {
   "cell_type": "markdown",
   "id": "3b9f4df2",
   "metadata": {},
   "source": [
    "elimizde çok uzun bir liste değerleri olacak ilerleyen zamanlarda ve bunların uzunluğunu öğrenmek için yine len() fonksiyonunu\n",
    "kullanacağız."
   ]
  },
  {
   "cell_type": "code",
   "execution_count": 13,
   "id": "b153a17a",
   "metadata": {},
   "outputs": [
    {
     "name": "stdout",
     "output_type": "stream",
     "text": [
      "12\n"
     ]
    }
   ],
   "source": [
    "thislist = [\"apple\", \"banana\", \"cherry\",\"apple\", \"banana\", \"cherry\",\"apple\", \"banana\", \"cherry\",\"apple\", \"banana\", \"cherry\"]\n",
    "\n",
    "print(len(thislist))"
   ]
  },
  {
   "cell_type": "markdown",
   "id": "91b94eab",
   "metadata": {},
   "source": [
    "içerisine her türlü değişken türü yer alabilir."
   ]
  },
  {
   "cell_type": "code",
   "execution_count": 14,
   "id": "59eaf684",
   "metadata": {
    "scrolled": false
   },
   "outputs": [
    {
     "name": "stdout",
     "output_type": "stream",
     "text": [
      "<class 'list'>\n"
     ]
    }
   ],
   "source": [
    "list1 = [\"abc\", 34, True, 40.40, \"male\"]\n",
    "print(type(list1))"
   ]
  },
  {
   "cell_type": "code",
   "execution_count": 15,
   "id": "115a0409",
   "metadata": {},
   "outputs": [
    {
     "name": "stdout",
     "output_type": "stream",
     "text": [
      "cherry\n",
      "['cherry', 'apple', 'banana']\n",
      "['apple', 'banana', 'cherry', 'apple', 'banana']\n",
      "['cherry', 'apple', 'banana', 'cherry', 'apple', 'banana', 'cherry', 'apple', 'banana', 'cherry']\n",
      "['cherry', 'apple', 'banana']\n"
     ]
    }
   ],
   "source": [
    "thislist = [\"apple\", \"banana\", \"cherry\",\"apple\", \"banana\", \"cherry\",\"apple\", \"banana\", \"cherry\",\"apple\", \"banana\", \"cherry\"]\n",
    "print(thislist[-1])\n",
    "print(thislist[2:5])\n",
    "print(thislist[:5])\n",
    "print(thislist[2:])\n",
    "print(thislist[-4:-1])"
   ]
  },
  {
   "cell_type": "code",
   "execution_count": 16,
   "id": "5e82f537",
   "metadata": {},
   "outputs": [
    {
     "name": "stdout",
     "output_type": "stream",
     "text": [
      "Jello World!\n"
     ]
    }
   ],
   "source": [
    "a = \"Hello World!\"\n",
    "a = a.replace('H','J')\n",
    "print(a)"
   ]
  },
  {
   "cell_type": "code",
   "execution_count": 17,
   "id": "f13e97f7",
   "metadata": {},
   "outputs": [
    {
     "name": "stdout",
     "output_type": "stream",
     "text": [
      "['abc', 'Boran', True, 40.4, 'male']\n"
     ]
    }
   ],
   "source": [
    "new_list = [\"abc\", 34, True, 40.40, \"male\"]\n",
    "new_list[1] = \"Boran\"\n",
    "print(new_list)"
   ]
  },
  {
   "cell_type": "code",
   "execution_count": 18,
   "id": "a1432686",
   "metadata": {},
   "outputs": [
    {
     "name": "stdout",
     "output_type": "stream",
     "text": [
      "['abc', 'Dublin', 'Istanbul', 40.4, 'male']\n"
     ]
    }
   ],
   "source": [
    "new_list = [\"abc\", 34, True, 40.40, \"male\"]\n",
    "new_list[1:3] = ['Dublin','Istanbul']\n",
    "print(new_list)"
   ]
  },
  {
   "cell_type": "markdown",
   "id": "621671bc",
   "metadata": {},
   "source": [
    "### Insert method"
   ]
  },
  {
   "cell_type": "code",
   "execution_count": 19,
   "id": "f4e289a0",
   "metadata": {},
   "outputs": [
    {
     "name": "stdout",
     "output_type": "stream",
     "text": [
      "['apple', 'banana', 'watermelon', 'cherry']\n"
     ]
    }
   ],
   "source": [
    "thislist = [\"apple\", \"banana\", \"cherry\"]\n",
    "thislist.insert(2, \"watermelon\")\n",
    "print(thislist)"
   ]
  },
  {
   "cell_type": "markdown",
   "id": "872fccc2",
   "metadata": {},
   "source": [
    "### Append method"
   ]
  },
  {
   "cell_type": "code",
   "execution_count": 20,
   "id": "d7a27cdf",
   "metadata": {},
   "outputs": [
    {
     "name": "stdout",
     "output_type": "stream",
     "text": [
      "['apple', 'banana', 'cherry', 'watermelon']\n",
      "['apple', 'banana', 'cherry', 'watermelon', 'kiraz']\n"
     ]
    }
   ],
   "source": [
    "thislist = [\"apple\", \"banana\", \"cherry\"]\n",
    "thislist.append(\"watermelon\")\n",
    "print(thislist)\n",
    "thislist.append('kiraz')\n",
    "print(thislist)"
   ]
  },
  {
   "cell_type": "markdown",
   "id": "5439b957",
   "metadata": {},
   "source": [
    "### Extend Method"
   ]
  },
  {
   "cell_type": "code",
   "execution_count": 22,
   "id": "25557553",
   "metadata": {},
   "outputs": [
    {
     "name": "stdout",
     "output_type": "stream",
     "text": [
      "['apple', 'banana', 'cherry', 'mango', 'pineapple', 'papaya']\n"
     ]
    }
   ],
   "source": [
    "thislist = [\"apple\", \"banana\", \"cherry\"]\n",
    "tropical = [\"mango\", \"pineapple\", \"papaya\"]\n",
    "\n",
    "thislist.extend(tropical)\n",
    "\n",
    "print(thislist)"
   ]
  },
  {
   "cell_type": "markdown",
   "id": "a471013c",
   "metadata": {},
   "source": [
    "### Remove Method"
   ]
  },
  {
   "cell_type": "code",
   "execution_count": 23,
   "id": "12e03961",
   "metadata": {},
   "outputs": [
    {
     "name": "stdout",
     "output_type": "stream",
     "text": [
      "['apple', 'banana', 'cherry', 'mango', 'pineapple']\n"
     ]
    }
   ],
   "source": [
    "thislist.remove('papaya')\n",
    "print(thislist)"
   ]
  },
  {
   "cell_type": "markdown",
   "id": "cd52cf0e",
   "metadata": {},
   "source": [
    "### Pop Method"
   ]
  },
  {
   "cell_type": "code",
   "execution_count": 24,
   "id": "f4400a72",
   "metadata": {},
   "outputs": [
    {
     "data": {
      "text/plain": [
       "'banana'"
      ]
     },
     "execution_count": 24,
     "metadata": {},
     "output_type": "execute_result"
    }
   ],
   "source": [
    "thislist.pop(1)"
   ]
  },
  {
   "cell_type": "code",
   "execution_count": 25,
   "id": "34aac5e7",
   "metadata": {},
   "outputs": [
    {
     "name": "stdout",
     "output_type": "stream",
     "text": [
      "['apple', 'cherry', 'mango', 'pineapple']\n"
     ]
    }
   ],
   "source": [
    "print(thislist)"
   ]
  },
  {
   "cell_type": "markdown",
   "id": "7798f9bd",
   "metadata": {},
   "source": [
    "### Del method"
   ]
  },
  {
   "cell_type": "code",
   "execution_count": 26,
   "id": "96ccef2e",
   "metadata": {},
   "outputs": [
    {
     "name": "stdout",
     "output_type": "stream",
     "text": [
      "['apple', 'cherry', 'pineapple']\n"
     ]
    }
   ],
   "source": [
    "del thislist[2]\n",
    "print(thislist)"
   ]
  },
  {
   "cell_type": "code",
   "execution_count": 27,
   "id": "034a34cc",
   "metadata": {},
   "outputs": [
    {
     "name": "stdout",
     "output_type": "stream",
     "text": [
      "['apple', 'cherry', 'pineapple']\n"
     ]
    }
   ],
   "source": [
    "print(thislist)"
   ]
  },
  {
   "cell_type": "markdown",
   "id": "b07f0709",
   "metadata": {},
   "source": [
    "### Clear Method"
   ]
  },
  {
   "cell_type": "code",
   "execution_count": 28,
   "id": "4dab5376",
   "metadata": {},
   "outputs": [
    {
     "name": "stdout",
     "output_type": "stream",
     "text": [
      "[]\n"
     ]
    }
   ],
   "source": [
    "thislist.clear()\n",
    "print(thislist)"
   ]
  },
  {
   "cell_type": "markdown",
   "id": "b64d0451",
   "metadata": {},
   "source": [
    "### Example For loop and While Loop"
   ]
  },
  {
   "cell_type": "code",
   "execution_count": 1,
   "id": "2abbad6a",
   "metadata": {
    "scrolled": false
   },
   "outputs": [
    {
     "name": "stdout",
     "output_type": "stream",
     "text": [
      "1\n",
      "2\n",
      "3\n",
      "4\n",
      "5\n",
      "6\n",
      "6\n",
      "7\n",
      "8\n",
      "9\n",
      "0\n",
      "11\n",
      "11111\n",
      "11111112\n",
      "2\n",
      "2\n",
      "2\n",
      "2\n",
      "2\n",
      "23\n",
      "3\n"
     ]
    }
   ],
   "source": [
    "new_list = [1,2,3,4,5,6,6,7,8,9,0,11,11111,11111112,2,2,2,2,2,23,3]\n",
    "\n",
    "for item in new_list:\n",
    "    print(item)"
   ]
  },
  {
   "cell_type": "code",
   "execution_count": 30,
   "id": "dd8ec101",
   "metadata": {
    "scrolled": false
   },
   "outputs": [],
   "source": [
    "new_list = [1,2,3,4,5,6,6,7,8,9,0,11,11111,11111112,2,2,2,2,2,23,3]\n",
    "\n",
    "i = 2\n",
    "\n",
    "while i < new_list:\n",
    "    print(new_list[i])\n",
    "    i = i + 1"
   ]
  },
  {
   "cell_type": "markdown",
   "id": "39100e7c",
   "metadata": {},
   "source": [
    "### Sort Method"
   ]
  },
  {
   "cell_type": "code",
   "execution_count": 31,
   "id": "22f4a134",
   "metadata": {},
   "outputs": [
    {
     "name": "stdout",
     "output_type": "stream",
     "text": [
      "normal sıralama: ['banana', 'kiwi', 'mango', 'orange', 'pineapple']\n",
      "ters sıralama: ['pineapple', 'orange', 'mango', 'kiwi', 'banana']\n"
     ]
    }
   ],
   "source": [
    "thislist = [\"orange\", \"mango\", \"kiwi\", \"pineapple\", \"banana\"]\n",
    "thislist.sort()\n",
    "print(\"normal sıralama:\",thislist)\n",
    "thislist.sort(reverse = True)\n",
    "print(\"ters sıralama:\",thislist)"
   ]
  },
  {
   "cell_type": "code",
   "execution_count": 32,
   "id": "b40c4d77",
   "metadata": {},
   "outputs": [
    {
     "name": "stdout",
     "output_type": "stream",
     "text": [
      "normal sıralama: [23, 50, 65, 82, 100]\n",
      "ters sıralama: [100, 82, 65, 50, 23]\n"
     ]
    }
   ],
   "source": [
    "thislist = [100, 50, 65, 82, 23]\n",
    "thislist.sort()\n",
    "print(\"normal sıralama:\",thislist)\n",
    "thislist.sort(reverse = True)\n",
    "print(\"ters sıralama:\",thislist)"
   ]
  },
  {
   "cell_type": "code",
   "execution_count": 33,
   "id": "b2300e67",
   "metadata": {},
   "outputs": [
    {
     "name": "stdout",
     "output_type": "stream",
     "text": [
      "['Kiwi', 'Orange', 'banana', 'cherry']\n",
      "['banana', 'cherry', 'Kiwi', 'Orange']\n"
     ]
    }
   ],
   "source": [
    "thislist = [\"banana\", \"Orange\", \"Kiwi\", \"cherry\"]\n",
    "thislist.sort()\n",
    "print(thislist)\n",
    "thislist.sort(key = str.lower)\n",
    "print(thislist)"
   ]
  },
  {
   "cell_type": "markdown",
   "id": "6c10d0d2",
   "metadata": {},
   "source": [
    "### Reverse Method"
   ]
  },
  {
   "cell_type": "code",
   "execution_count": 34,
   "id": "3f0aafc2",
   "metadata": {},
   "outputs": [
    {
     "name": "stdout",
     "output_type": "stream",
     "text": [
      "['cherry', 'Kiwi', 'Orange', 'cherrybanana', 'Kiwi', 'Orange', 'cherrybanana', 'Kiwi', 'Orange', 'cherrybanana', 'Kiwi', 'Orange', 'banana', 'cherry', 'Kiwi', 'Orange', 'banana']\n"
     ]
    }
   ],
   "source": [
    "thislist = [\"banana\", \"Orange\", \"Kiwi\", \"cherry\",\"banana\", \"Orange\", \"Kiwi\", \"cherry\"\"banana\", \"Orange\", \"Kiwi\", \"cherry\"\"banana\", \"Orange\", \"Kiwi\", \"cherry\"\"banana\", \"Orange\", \"Kiwi\", \"cherry\",]\n",
    "thislist.reverse()\n",
    "print(thislist)"
   ]
  },
  {
   "cell_type": "markdown",
   "id": "1c4e182f",
   "metadata": {},
   "source": [
    "### Copy Method"
   ]
  },
  {
   "cell_type": "code",
   "execution_count": 35,
   "id": "a2fd22b9",
   "metadata": {},
   "outputs": [
    {
     "name": "stdout",
     "output_type": "stream",
     "text": [
      "['banana', 'Orange', 'Kiwi', 'cherry', 'banana', 'Orange', 'Kiwi', 'cherrybanana', 'Orange', 'Kiwi', 'cherrybanana', 'Orange', 'Kiwi', 'cherrybanana', 'Orange', 'Kiwi', 'cherry']\n"
     ]
    }
   ],
   "source": [
    "thislist = [\"banana\", \"Orange\", \"Kiwi\", \"cherry\",\"banana\", \"Orange\", \"Kiwi\", \"cherry\"\"banana\", \"Orange\", \"Kiwi\", \"cherry\"\"banana\", \"Orange\", \"Kiwi\", \"cherry\"\"banana\", \"Orange\", \"Kiwi\", \"cherry\",]\n",
    "copy_list = thislist.copy()\n",
    "print(copy_list)"
   ]
  },
  {
   "cell_type": "code",
   "execution_count": 37,
   "id": "61f61515",
   "metadata": {},
   "outputs": [
    {
     "name": "stdout",
     "output_type": "stream",
     "text": [
      "['banana', 'Orange', 'Kiwi', 'cherry', 'banana', 'Orange', 'Kiwi', 'cherry', 'banana', 'Orange', 'Kiwi', 'cherrybanana', 'Orange', 'Kiwi', 'cherrybanana', 'Orange', 'Kiwi', 'cherry']\n"
     ]
    }
   ],
   "source": [
    "thislist = [\"banana\", \"Orange\", \"Kiwi\", \"cherry\",\"banana\", \"Orange\", \"Kiwi\", \"cherry\",\"banana\", \"Orange\", \"Kiwi\", \"cherry\"\"banana\", \"Orange\", \"Kiwi\", \"cherry\"\"banana\", \"Orange\", \"Kiwi\", \"cherry\",]\n",
    "copy_list2 = list(thislist)\n",
    "print(copy_list2)"
   ]
  },
  {
   "cell_type": "code",
   "execution_count": null,
   "id": "44c4d7ce",
   "metadata": {},
   "outputs": [],
   "source": []
  }
 ],
 "metadata": {
  "kernelspec": {
   "display_name": "Python 3 (ipykernel)",
   "language": "python",
   "name": "python3"
  },
  "language_info": {
   "codemirror_mode": {
    "name": "ipython",
    "version": 3
   },
   "file_extension": ".py",
   "mimetype": "text/x-python",
   "name": "python",
   "nbconvert_exporter": "python",
   "pygments_lexer": "ipython3",
   "version": "3.9.12"
  }
 },
 "nbformat": 4,
 "nbformat_minor": 5
}
