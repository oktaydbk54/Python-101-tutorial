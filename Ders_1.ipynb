{
 "cells": [
  {
   "cell_type": "markdown",
   "id": "f7455e19",
   "metadata": {},
   "source": [
    "Python, nesne yönelimli, yorumlamalı, birimsel ve etkileşimli yüksek seviyeli bir programlama dilidir. Girintilere dayalı basit söz dizimi, dilin öğrenilmesini ve akılda kalmasını kolaylaştırır."
   ]
  },
  {
   "cell_type": "code",
   "execution_count": 1,
   "id": "fe4ed657",
   "metadata": {
    "scrolled": true
   },
   "outputs": [
    {
     "data": {
      "text/plain": [
       "'\\nÇok satırlı yorum yazmak istersek başlara sadece 3 tane\\nçift tırnak koymak yeterli gelir.\\nÇoklu yorum satırı bırakma sebebimiz ileride büyük projeler, uzun kodlar yazdığımız \\nzaman karışmaması için kullandığımız yöntemdir\\n'"
      ]
     },
     "execution_count": 1,
     "metadata": {},
     "output_type": "execute_result"
    }
   ],
   "source": [
    "# Tek satırlı yorum yazmak için sadece # başa koymak yeterlidir her zaman\n",
    "\"\"\"\n",
    "Çok satırlı yorum yazmak istersek başlara sadece 3 tane\n",
    "çift tırnak koymak yeterli gelir.\n",
    "Çoklu yorum satırı bırakma sebebimiz ileride büyük projeler, uzun kodlar yazdığımız \n",
    "zaman karışmaması için kullandığımız yöntemdir\n",
    "\"\"\""
   ]
  },
  {
   "cell_type": "code",
   "execution_count": 2,
   "id": "bb42d748",
   "metadata": {
    "scrolled": true
   },
   "outputs": [
    {
     "name": "stdout",
     "output_type": "stream",
     "text": [
      "3\n",
      "3\n",
      "3.14\n"
     ]
    }
   ],
   "source": [
    "x = str(3)    # x will be '3'\n",
    "y = int(3)    # y will be 3\n",
    "z = float(3.14)  # z will be 3.0\n",
    "print(x)\n",
    "print(y)\n",
    "print(z)"
   ]
  },
  {
   "cell_type": "code",
   "execution_count": 3,
   "id": "74ff7de5",
   "metadata": {},
   "outputs": [
    {
     "name": "stdout",
     "output_type": "stream",
     "text": [
      "3\n",
      "3\n"
     ]
    }
   ],
   "source": [
    "a = 3\n",
    "b = '3'\n",
    "print(a)\n",
    "print(b)"
   ]
  },
  {
   "cell_type": "code",
   "execution_count": 4,
   "id": "c98509dd",
   "metadata": {},
   "outputs": [
    {
     "name": "stdout",
     "output_type": "stream",
     "text": [
      "<class 'str'>\n",
      "<class 'int'>\n",
      "<class 'float'>\n"
     ]
    }
   ],
   "source": [
    "# Eğer bir değişkenin type nı bilmiyorsak yapmamız gereken tek şey type() içerisine koymak ve sonucu görmek\n",
    "print(type(x))\n",
    "print(type(y))\n",
    "print(type(z))"
   ]
  },
  {
   "cell_type": "markdown",
   "id": "3a746dc4",
   "metadata": {},
   "source": [
    "### Single or Double Quotes?"
   ]
  },
  {
   "cell_type": "code",
   "execution_count": 5,
   "id": "331b3d1f",
   "metadata": {},
   "outputs": [
    {
     "name": "stdout",
     "output_type": "stream",
     "text": [
      "John\n",
      "John\n",
      "dün gece Ankara'daydım\n"
     ]
    }
   ],
   "source": [
    "x = \"John\"\n",
    "# istersek çift tırnak koyalım istersek tek tırnak aralarında hiç bir fark olmaz \n",
    "# bizim John aynı John olarak kalır her zaman\n",
    "x_2 = 'John'\n",
    "print(x)\n",
    "print(x_2)\n",
    "\n",
    "print(\"dün gece Ankara'daydım\")"
   ]
  },
  {
   "cell_type": "raw",
   "id": "50a483d9",
   "metadata": {},
   "source": [
    "değişken tanımlarken dikkat etmemiz gereken bazı kurallar var.\n",
    "1- Rakam ile başlayamayız\n",
    "2- Harflerin arasına boşluk bırakamayız\n",
    "3- ayırmak için - kullanamayız"
   ]
  },
  {
   "cell_type": "markdown",
   "id": "4a019f80",
   "metadata": {},
   "source": [
    "Aynı anda birden fazla değişkeni tek satırda değerlerini verebiliriz şu şekilde "
   ]
  },
  {
   "cell_type": "code",
   "execution_count": 6,
   "id": "8a36cec1",
   "metadata": {},
   "outputs": [
    {
     "name": "stdout",
     "output_type": "stream",
     "text": [
      "Orange\n",
      "Banana\n",
      "Cherry\n"
     ]
    }
   ],
   "source": [
    "x, y, z = \"Orange\", \"Banana\", \"Cherry\"\n",
    "print(x)\n",
    "print(y)\n",
    "print(z)"
   ]
  },
  {
   "cell_type": "markdown",
   "id": "98fe1597",
   "metadata": {},
   "source": [
    "veya tek  değeri birden fazla değişkene verebiliriz"
   ]
  },
  {
   "cell_type": "code",
   "execution_count": 7,
   "id": "55b575b5",
   "metadata": {},
   "outputs": [
    {
     "name": "stdout",
     "output_type": "stream",
     "text": [
      "Orange\n",
      "Orange\n",
      "Orange\n"
     ]
    }
   ],
   "source": [
    "x = y = z = \"Orange\"\n",
    "print(x)\n",
    "print(y)\n",
    "print(z)"
   ]
  },
  {
   "cell_type": "raw",
   "id": "485be7ca",
   "metadata": {},
   "source": [
    "şimdi Python genel olarak fonksiyonlar üzerinden çalıştırılan bir sistemi vardır.\n",
    "Nasıl yani ? \n",
    "şu şekilde bir işlem yapmak istediğimiz zaman kullanacağımız hemen hemen her şeyi hazır fonksiyonlara yazılıp sonrasında\n",
    "tekrar, tekrar ve tekrar kullanabiliriz"
   ]
  },
  {
   "cell_type": "code",
   "execution_count": 8,
   "id": "8a263440",
   "metadata": {},
   "outputs": [
    {
     "name": "stdout",
     "output_type": "stream",
     "text": [
      "Hello World!\n"
     ]
    }
   ],
   "source": [
    "# değerlerimizi output etmek için print() fonksiyonunu kullanırız\n",
    "print(\"Hello World!\") # Dünya klasiğidir herkesin ilk print değeri hello world olmadan olmaz programlama da :D Hoşgeldiniz"
   ]
  },
  {
   "cell_type": "code",
   "execution_count": 9,
   "id": "ab8a924b",
   "metadata": {},
   "outputs": [
    {
     "name": "stdout",
     "output_type": "stream",
     "text": [
      "35\n"
     ]
    }
   ],
   "source": [
    "x = 15\n",
    "y = 20\n",
    "print(x + y)"
   ]
  },
  {
   "cell_type": "markdown",
   "id": "4fb7abdd",
   "metadata": {},
   "source": [
    "## Python Strings"
   ]
  },
  {
   "cell_type": "code",
   "execution_count": 10,
   "id": "9d1a7b21",
   "metadata": {},
   "outputs": [
    {
     "name": "stdout",
     "output_type": "stream",
     "text": [
      "Hello\n"
     ]
    }
   ],
   "source": [
    "a = \"Hello\"\n",
    "print(a)"
   ]
  },
  {
   "cell_type": "markdown",
   "id": "6aa66c7c",
   "metadata": {},
   "source": [
    "eğer uzun bir string değerimiz varsa elinde şiirler gibi ve aynı şekilde çıktı olmasını istersek\n",
    "yani satırların kaymamasını istersek 3 tırnak şeklinde yazarız."
   ]
  },
  {
   "cell_type": "code",
   "execution_count": 11,
   "id": "bb46c788",
   "metadata": {},
   "outputs": [
    {
     "name": "stdout",
     "output_type": "stream",
     "text": [
      "Lorem ipsum dolor sit amet,\n",
      "consectetur adipiscing elit,\n",
      "sed do eiusmod tempor incididunt\n",
      "ut labore et dolore magna aliqua.\n"
     ]
    }
   ],
   "source": [
    "a = \"\"\"Lorem ipsum dolor sit amet,\n",
    "consectetur adipiscing elit,\n",
    "sed do eiusmod tempor incididunt\n",
    "ut labore et dolore magna aliqua.\"\"\"\n",
    "print(a)"
   ]
  },
  {
   "cell_type": "markdown",
   "id": "c7a4ca7b",
   "metadata": {},
   "source": [
    "elimizde çok uzun bir yazı olduğunu düşünelim ve bunun boyutunu öğrenmek istediğimizi düşünelim \n",
    "o zaman len() fonksiyonu kullanırız"
   ]
  },
  {
   "cell_type": "code",
   "execution_count": 12,
   "id": "9bb09bd1",
   "metadata": {},
   "outputs": [
    {
     "name": "stdout",
     "output_type": "stream",
     "text": [
      "123\n"
     ]
    }
   ],
   "source": [
    "print(len(a)) # 123 değerden oluşmakta olduğunu öğreniyoruz"
   ]
  },
  {
   "cell_type": "markdown",
   "id": "326bc203",
   "metadata": {},
   "source": [
    "## Slicing Strings"
   ]
  },
  {
   "cell_type": "raw",
   "id": "bf20c7e6",
   "metadata": {},
   "source": [
    "string değerlerimizi parçalamak için şu yapıda çalışırız\n",
    "\n",
    "string_degiskenin_adı[start location : end location : step] (default step = 1)"
   ]
  },
  {
   "cell_type": "code",
   "execution_count": 13,
   "id": "28011741",
   "metadata": {},
   "outputs": [
    {
     "name": "stdout",
     "output_type": "stream",
     "text": [
      "Hello\n"
     ]
    }
   ],
   "source": [
    "b = \"Hello,__World!\"\n",
    "print(b[ 0:5 ]) #burada 2.inci indexten başladık 5.inci index'e kadar ilerledik step değeri vermediğimiz için default 1 olarak işledi"
   ]
  },
  {
   "cell_type": "raw",
   "id": "3059e990",
   "metadata": {},
   "source": [
    "Önemli not python veya hemen hemen çoğu yazılım dilinde saymaya 0 ile başlarız"
   ]
  },
  {
   "cell_type": "raw",
   "id": "c414ef8d",
   "metadata": {},
   "source": [
    "Eğer parçalama işlemi yaparken başlangıç veya bitiş ikisinden birisi olmazsa oluşacak şartlar şunlardır:\n",
    "1- Eğer başlangıç noktası belirtilmemiş ise 0.ıncı index default olur ve 0'dan başlarız\n",
    "2- Eğer bitiş noktası belirtilmemiş ise sonuncu index'e kadar kapsar.\n",
    "3- Eğer hem başlangıç hem bitiş noktası verilmemiş ise o zaman en başından en sonuna kadar alınır."
   ]
  },
  {
   "cell_type": "code",
   "execution_count": 14,
   "id": "d6ca7510",
   "metadata": {},
   "outputs": [
    {
     "name": "stdout",
     "output_type": "stream",
     "text": [
      "Hello,_\n"
     ]
    }
   ],
   "source": [
    "#koşul 1 için örnek\n",
    "print(b[:7]) # başlangıç verilmedi bitiş verildi sadece"
   ]
  },
  {
   "cell_type": "code",
   "execution_count": 15,
   "id": "f44ecb4b",
   "metadata": {},
   "outputs": [
    {
     "name": "stdout",
     "output_type": "stream",
     "text": [
      "lo,__World!\n"
     ]
    }
   ],
   "source": [
    "#koşul 2 için örnek\n",
    "print(b[3:]) # başlangıç değeri verildi fakat bitiş değeri verilmedi"
   ]
  },
  {
   "cell_type": "code",
   "execution_count": 18,
   "id": "57897818",
   "metadata": {},
   "outputs": [
    {
     "name": "stdout",
     "output_type": "stream",
     "text": [
      "ata_b\n"
     ]
    }
   ],
   "source": [
    "name = \"Ali_ata_bak\"\n",
    "print(name[-7:-2])"
   ]
  },
  {
   "cell_type": "markdown",
   "id": "2abdc8af",
   "metadata": {},
   "source": [
    "## Python - Modify Strings"
   ]
  },
  {
   "cell_type": "markdown",
   "id": "8e734c90",
   "metadata": {},
   "source": [
    "şimdi elimizde bir string değişkeni olduğunu düşünelim ve bunun bütün harflerini büyük yapmamız gerekiyor\n",
    "yapmamız baştan yazabiliriz ama onun yerine direkt bizim yerimize büyütücek hazır fonksiyonlar bulunuyor. \n",
    "bunun için upper() fonksiyonunu kullanırız."
   ]
  },
  {
   "cell_type": "code",
   "execution_count": 19,
   "id": "999aaf39",
   "metadata": {},
   "outputs": [
    {
     "name": "stdout",
     "output_type": "stream",
     "text": [
      "HELLO, WORLD!\n"
     ]
    }
   ],
   "source": [
    "a = \"Hello, World!\"\n",
    "print(a.upper())"
   ]
  },
  {
   "cell_type": "markdown",
   "id": "a26c4243",
   "metadata": {},
   "source": [
    "şimdi tam tersi eğer harfleri küçültmek istersek lower() kullanırız."
   ]
  },
  {
   "cell_type": "code",
   "execution_count": 20,
   "id": "916ffa97",
   "metadata": {},
   "outputs": [
    {
     "name": "stdout",
     "output_type": "stream",
     "text": [
      "hello, world!\n"
     ]
    }
   ],
   "source": [
    "a = \"HELLO, WORLD!\"\n",
    "print(a.lower())"
   ]
  },
  {
   "cell_type": "raw",
   "id": "14c01562",
   "metadata": {},
   "source": [
    "diyelim ki elimizde ki değişkende string değerimizin başında sonunda fazladan boşluklar var \n",
    "bunlardan kurtulmak için strip() fonksiyonunu kullanırız."
   ]
  },
  {
   "cell_type": "code",
   "execution_count": 21,
   "id": "6d0bccb6",
   "metadata": {},
   "outputs": [
    {
     "name": "stdout",
     "output_type": "stream",
     "text": [
      "Hello, World!\n"
     ]
    }
   ],
   "source": [
    "a = \"      Hello, World!                \"\n",
    "print(a.strip()) # returns \"Hello, World!\""
   ]
  },
  {
   "cell_type": "raw",
   "id": "2a722d58",
   "metadata": {},
   "source": [
    "bu sefer şimdi diyelim ki harf değiştirmek istiyoruz bunun için replace() fonksiyonunu kullanırız."
   ]
  },
  {
   "cell_type": "code",
   "execution_count": 22,
   "id": "2fa672a9",
   "metadata": {},
   "outputs": [
    {
     "name": "stdout",
     "output_type": "stream",
     "text": [
      "J, World!\n"
     ]
    }
   ],
   "source": [
    "a = \"Hello, World!\"\n",
    "print(a.replace(\"Hello\", \"J\"))"
   ]
  },
  {
   "cell_type": "raw",
   "id": "c26b680f",
   "metadata": {},
   "source": [
    "eğer biz elimizde ki string değerini parçalamak istersek bunun için split() fonksiyonunu kullanırız."
   ]
  },
  {
   "cell_type": "code",
   "execution_count": 23,
   "id": "6f5c57d4",
   "metadata": {},
   "outputs": [
    {
     "name": "stdout",
     "output_type": "stream",
     "text": [
      "['Hello', ' World!Hello', ' World! Hello', ' World! Hello', ' World! Hello', ' World! Hello', ' World! Hello', ' World!Hello', ' World!Hello', ' World!Hello', ' World!Hello', ' World!Hello', ' World!Hello', ' World!Hello', ' World!Hello', ' World!Hello', ' World!Hello', ' World!Hello', ' World!']\n"
     ]
    }
   ],
   "source": [
    "a = \"Hello, World!Hello, World! Hello, World! Hello, World! Hello, World! Hello, World! Hello, World!Hello, World!Hello, World!Hello, World!Hello, World!Hello, World!Hello, World!Hello, World!Hello, World!Hello, World!Hello, World!Hello, World!\"\n",
    "print(a.split(\",\")) # returns ['Hello', ' World!']"
   ]
  },
  {
   "cell_type": "raw",
   "id": "c7de8ba1",
   "metadata": {},
   "source": [
    "Ödev String değişkeninin özellikleri çalışılacak tekrar edilecek !!!"
   ]
  },
  {
   "cell_type": "raw",
   "id": "d8b9c808",
   "metadata": {},
   "source": [
    "Pythonda günlük olarak en çok kullanılan fonksiyonların başında format() fonksiyonu gelir dersek yalan olmaz aslında\n",
    "format() fonksiyonu stringler için kullanılır şöyle bir örnek vereyim yapbozun parçasını sonradan eklemek gibi düşünebiliriz\n",
    "hemen bir örnek ile görelim."
   ]
  },
  {
   "cell_type": "raw",
   "id": "c7d3e409",
   "metadata": {},
   "source": [
    "quantity = 3\n",
    "itemno = 567\n",
    "price = 49.95\n",
    "myorder = \"I want {} pieces of item {} for {} dollars.\" # şimdi burada süslü parantezleri bıraktık bunun sebebi\n",
    "#buraya bir deger gelecek ama ne olduğunu bilmediğimizi düşünelim ama değişken elimizde işte o zaman bunu kullanıyoruz\n",
    "# yapbozun bazı parçalarını koydum ama ortasına nasıl bir şey gelecek bilmiyoruz örneği bunun için\n",
    "print(myorder.format(quantity, itemno, price))"
   ]
  },
  {
   "cell_type": "code",
   "execution_count": 24,
   "id": "ae973313",
   "metadata": {},
   "outputs": [
    {
     "name": "stdout",
     "output_type": "stream",
     "text": [
      "I want 3 pieces of item 567 for 49.95 dollars.\n"
     ]
    }
   ],
   "source": [
    "quantity = 3\n",
    "itemno = 567\n",
    "price = 49.95\n",
    "myorder = \"I want {} pieces of item {} for {} dollars.\"\n",
    "print(myorder.format(quantity, itemno, price))"
   ]
  },
  {
   "cell_type": "code",
   "execution_count": 25,
   "id": "fa110360",
   "metadata": {},
   "outputs": [
    {
     "name": "stdout",
     "output_type": "stream",
     "text": [
      "Boran aramıza katıldı.\n",
      "Boran aramıza katıldı\n",
      "Boran  aramıza katıldı.\n",
      "Boran aramıza katıldı.\n"
     ]
    }
   ],
   "source": [
    "name = 'Boran'\n",
    "print(\"{} aramıza katıldı.\".format(name))\n",
    "print(f\"{name} aramıza katıldı\")\n",
    "print(name,\" aramıza katıldı.\")\n",
    "print(name + \" aramıza katıldı.\")"
   ]
  },
  {
   "cell_type": "code",
   "execution_count": 26,
   "id": "4e5b4609",
   "metadata": {},
   "outputs": [
    {
     "name": "stdout",
     "output_type": "stream",
     "text": [
      "Merhaba bodabak yarısmamıza istanbul katılıyorsun. 3 deneme hakkın var\n",
      "----------\n",
      "Merhaba bodabak yarısmamıza istanbul katılıyorsun. 3 deneme hakkın var\n"
     ]
    }
   ],
   "source": [
    "deneme = 3\n",
    "sehir = \"istanbul\"\n",
    "kullanıcı_adı = \"bodabak\"\n",
    "\n",
    "sonuc = \"Merhaba {1} yarısmamıza {0} katılıyorsun. {2} deneme hakkın var\".format(sehir,kullanıcı_adı,deneme)\n",
    "print(sonuc)\n",
    "print(\"-\"*10)\n",
    "sonuc_2 = f\"Merhaba {kullanıcı_adı} yarısmamıza {sehir} katılıyorsun. {deneme} deneme hakkın var\"\n",
    "print(sonuc_2)"
   ]
  },
  {
   "cell_type": "raw",
   "id": "3d9b3d63",
   "metadata": {},
   "source": [
    "Ödev linki: https://www.w3schools.com/python/python_ref_string.asp"
   ]
  },
  {
   "cell_type": "code",
   "execution_count": null,
   "id": "2c21ab44",
   "metadata": {},
   "outputs": [],
   "source": []
  }
 ],
 "metadata": {
  "kernelspec": {
   "display_name": "Python 3 (ipykernel)",
   "language": "python",
   "name": "python3"
  },
  "language_info": {
   "codemirror_mode": {
    "name": "ipython",
    "version": 3
   },
   "file_extension": ".py",
   "mimetype": "text/x-python",
   "name": "python",
   "nbconvert_exporter": "python",
   "pygments_lexer": "ipython3",
   "version": "3.9.12"
  }
 },
 "nbformat": 4,
 "nbformat_minor": 5
}
